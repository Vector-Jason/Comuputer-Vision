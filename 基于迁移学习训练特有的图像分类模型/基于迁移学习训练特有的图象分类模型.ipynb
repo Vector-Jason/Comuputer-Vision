{
  "cells": [
    {
      "cell_type": "markdown",
      "id": "68aa2c39-1a4b-4d3c-ab35-3d44896f2f67",
      "metadata": {
        "id": "68aa2c39-1a4b-4d3c-ab35-3d44896f2f67"
      },
      "source": [
        "# 安装配置环境\n",
        "\n"
      ]
    },
    {
      "cell_type": "code",
      "execution_count": null,
      "id": "83c98888-79c0-4f4c-8e64-b9cc65ac797e",
      "metadata": {
        "id": "83c98888-79c0-4f4c-8e64-b9cc65ac797e",
        "outputId": "9a4d1b2a-ba1f-4d9f-c958-3a9cd0bcbb15",
        "colab": {
          "base_uri": "https://localhost:8080/"
        }
      },
      "outputs": [
        {
          "output_type": "stream",
          "name": "stdout",
          "text": [
            "Looking in indexes: https://pypi.tuna.tsinghua.edu.cn/simple, https://us-python.pkg.dev/colab-wheels/public/simple/\n",
            "Requirement already satisfied: numpy in /usr/local/lib/python3.8/dist-packages (1.21.6)\n",
            "Requirement already satisfied: pandas in /usr/local/lib/python3.8/dist-packages (1.3.5)\n",
            "Requirement already satisfied: matplotlib in /usr/local/lib/python3.8/dist-packages (3.2.2)\n",
            "Requirement already satisfied: seaborn in /usr/local/lib/python3.8/dist-packages (0.11.2)\n",
            "Requirement already satisfied: plotly in /usr/local/lib/python3.8/dist-packages (5.5.0)\n",
            "Requirement already satisfied: requests in /usr/local/lib/python3.8/dist-packages (2.25.1)\n",
            "Requirement already satisfied: tqdm in /usr/local/lib/python3.8/dist-packages (4.64.1)\n",
            "Requirement already satisfied: opencv-python in /usr/local/lib/python3.8/dist-packages (4.6.0.66)\n",
            "Requirement already satisfied: pillow in /usr/local/lib/python3.8/dist-packages (7.1.2)\n",
            "Collecting wandb\n",
            "  Downloading https://pypi.tuna.tsinghua.edu.cn/packages/81/d7/0b3f8899041ccf0592d139a832e179df0e0f850472db9ddd5f5266c4b4c9/wandb-0.13.7-py2.py3-none-any.whl (1.9 MB)\n",
            "\u001b[2K     \u001b[90m━━━━━━━━━━━━━━━━━━━━━━━━━━━━━━━━━━━━━━━━\u001b[0m \u001b[32m1.9/1.9 MB\u001b[0m \u001b[31m527.2 kB/s\u001b[0m eta \u001b[36m0:00:00\u001b[0m\n",
            "\u001b[?25hRequirement already satisfied: python-dateutil>=2.7.3 in /usr/local/lib/python3.8/dist-packages (from pandas) (2.8.2)\n",
            "Requirement already satisfied: pytz>=2017.3 in /usr/local/lib/python3.8/dist-packages (from pandas) (2022.7)\n",
            "Requirement already satisfied: kiwisolver>=1.0.1 in /usr/local/lib/python3.8/dist-packages (from matplotlib) (1.4.4)\n",
            "Requirement already satisfied: cycler>=0.10 in /usr/local/lib/python3.8/dist-packages (from matplotlib) (0.11.0)\n",
            "Requirement already satisfied: pyparsing!=2.0.4,!=2.1.2,!=2.1.6,>=2.0.1 in /usr/local/lib/python3.8/dist-packages (from matplotlib) (3.0.9)\n",
            "Requirement already satisfied: scipy>=1.0 in /usr/local/lib/python3.8/dist-packages (from seaborn) (1.7.3)\n",
            "Requirement already satisfied: six in /usr/local/lib/python3.8/dist-packages (from plotly) (1.15.0)\n",
            "Requirement already satisfied: tenacity>=6.2.0 in /usr/local/lib/python3.8/dist-packages (from plotly) (8.1.0)\n",
            "Requirement already satisfied: chardet<5,>=3.0.2 in /usr/local/lib/python3.8/dist-packages (from requests) (4.0.0)\n",
            "Requirement already satisfied: urllib3<1.27,>=1.21.1 in /usr/local/lib/python3.8/dist-packages (from requests) (1.24.3)\n",
            "Requirement already satisfied: certifi>=2017.4.17 in /usr/local/lib/python3.8/dist-packages (from requests) (2022.12.7)\n",
            "Requirement already satisfied: idna<3,>=2.5 in /usr/local/lib/python3.8/dist-packages (from requests) (2.10)\n",
            "Requirement already satisfied: Click!=8.0.0,>=7.0 in /usr/local/lib/python3.8/dist-packages (from wandb) (7.1.2)\n",
            "Collecting pathtools\n",
            "  Downloading https://pypi.tuna.tsinghua.edu.cn/packages/e7/7f/470d6fcdf23f9f3518f6b0b76be9df16dcc8630ad409947f8be2eb0ed13a/pathtools-0.1.2.tar.gz (11 kB)\n",
            "  Preparing metadata (setup.py) ... \u001b[?25l\u001b[?25hdone\n",
            "Requirement already satisfied: psutil>=5.0.0 in /usr/local/lib/python3.8/dist-packages (from wandb) (5.4.8)\n",
            "Collecting sentry-sdk>=1.0.0\n",
            "  Downloading https://pypi.tuna.tsinghua.edu.cn/packages/5f/aa/526c8ed2f1e499d641d4cd05a91cd56be9c078597c4b39033a43e794f827/sentry_sdk-1.12.1-py2.py3-none-any.whl (174 kB)\n",
            "\u001b[2K     \u001b[90m━━━━━━━━━━━━━━━━━━━━━━━━━━━━━━━━━━━━━\u001b[0m \u001b[32m174.3/174.3 KB\u001b[0m \u001b[31m299.4 kB/s\u001b[0m eta \u001b[36m0:00:00\u001b[0m\n",
            "\u001b[?25hRequirement already satisfied: setuptools in /usr/local/lib/python3.8/dist-packages (from wandb) (57.4.0)\n",
            "Collecting GitPython>=1.0.0\n",
            "  Downloading https://pypi.tuna.tsinghua.edu.cn/packages/d0/7c/e6942be5f2c03a9de68a6c782373dcec7dc1d10664dd20652bfb7307f905/GitPython-3.1.30-py3-none-any.whl (184 kB)\n",
            "\u001b[2K     \u001b[90m━━━━━━━━━━━━━━━━━━━━━━━━━━━━━━━━━━━━━━━\u001b[0m \u001b[32m184.0/184.0 KB\u001b[0m \u001b[31m2.0 MB/s\u001b[0m eta \u001b[36m0:00:00\u001b[0m\n",
            "\u001b[?25hRequirement already satisfied: protobuf!=4.21.0,<5,>=3.12.0 in /usr/local/lib/python3.8/dist-packages (from wandb) (3.19.6)\n",
            "Collecting setproctitle\n",
            "  Downloading https://pypi.tuna.tsinghua.edu.cn/packages/ce/ea/da374494f0edede3bc098a747e308d40ba737e3b160d3ff46cce05f84c9a/setproctitle-1.3.2-cp38-cp38-manylinux_2_5_x86_64.manylinux1_x86_64.manylinux_2_17_x86_64.manylinux2014_x86_64.whl (31 kB)\n",
            "Collecting docker-pycreds>=0.4.0\n",
            "  Downloading https://pypi.tuna.tsinghua.edu.cn/packages/f5/e8/f6bd1eee09314e7e6dee49cbe2c5e22314ccdb38db16c9fc72d2fa80d054/docker_pycreds-0.4.0-py2.py3-none-any.whl (9.0 kB)\n",
            "Requirement already satisfied: PyYAML in /usr/local/lib/python3.8/dist-packages (from wandb) (6.0)\n",
            "Collecting shortuuid>=0.5.0\n",
            "  Downloading https://pypi.tuna.tsinghua.edu.cn/packages/c3/46/644a4df3061e96ef24998c0623d3b12287090ab9a0e0d6ad8408f7b87283/shortuuid-1.0.11-py3-none-any.whl (10 kB)\n",
            "Requirement already satisfied: promise<3,>=2.0 in /usr/local/lib/python3.8/dist-packages (from wandb) (2.3)\n",
            "Collecting gitdb<5,>=4.0.1\n",
            "  Downloading https://pypi.tuna.tsinghua.edu.cn/packages/21/a6/35f83efec687615c711fe0a09b67e58f6d1254db27b1013119de46f450bd/gitdb-4.0.10-py3-none-any.whl (62 kB)\n",
            "\u001b[2K     \u001b[90m━━━━━━━━━━━━━━━━━━━━━━━━━━━━━━━━━━━━━━━\u001b[0m \u001b[32m62.7/62.7 KB\u001b[0m \u001b[31m178.6 kB/s\u001b[0m eta \u001b[36m0:00:00\u001b[0m\n",
            "\u001b[?25hCollecting urllib3<1.27,>=1.21.1\n",
            "  Downloading https://pypi.tuna.tsinghua.edu.cn/packages/65/0c/cc6644eaa594585e5875f46f3c83ee8762b647b51fc5b0fb253a242df2dc/urllib3-1.26.13-py2.py3-none-any.whl (140 kB)\n",
            "\u001b[2K     \u001b[90m━━━━━━━━━━━━━━━━━━━━━━━━━━━━━━━━━━━━━\u001b[0m \u001b[32m140.6/140.6 KB\u001b[0m \u001b[31m102.7 kB/s\u001b[0m eta \u001b[36m0:00:00\u001b[0m\n",
            "\u001b[?25hCollecting smmap<6,>=3.0.1\n",
            "  Downloading https://pypi.tuna.tsinghua.edu.cn/packages/6d/01/7caa71608bc29952ae09b0be63a539e50d2484bc37747797a66a60679856/smmap-5.0.0-py3-none-any.whl (24 kB)\n",
            "Building wheels for collected packages: pathtools\n",
            "  Building wheel for pathtools (setup.py) ... \u001b[?25l\u001b[?25hdone\n",
            "  Created wheel for pathtools: filename=pathtools-0.1.2-py3-none-any.whl size=8806 sha256=97150f204c6d3f4e68520aaf91d2f419d2927e70c3677a7a3e00d8737f513e5f\n",
            "  Stored in directory: /root/.cache/pip/wheels/b7/31/e6/19ca1592f9946bc5e44fddcb324e639092a939c6ef197b71e5\n",
            "Successfully built pathtools\n",
            "Installing collected packages: pathtools, urllib3, smmap, shortuuid, setproctitle, docker-pycreds, sentry-sdk, gitdb, GitPython, wandb\n",
            "  Attempting uninstall: urllib3\n",
            "    Found existing installation: urllib3 1.24.3\n",
            "    Uninstalling urllib3-1.24.3:\n",
            "      Successfully uninstalled urllib3-1.24.3\n",
            "Successfully installed GitPython-3.1.30 docker-pycreds-0.4.0 gitdb-4.0.10 pathtools-0.1.2 sentry-sdk-1.12.1 setproctitle-1.3.2 shortuuid-1.0.11 smmap-5.0.0 urllib3-1.26.13 wandb-0.13.7\n"
          ]
        }
      ],
      "source": [
        "!pip install numpy pandas matplotlib seaborn plotly requests tqdm opencv-python pillow wandb -i https://pypi.tuna.tsinghua.edu.cn/simple"
      ]
    },
    {
      "cell_type": "markdown",
      "id": "f34acebb-ad33-4775-a842-3df6e4cce3fb",
      "metadata": {
        "id": "f34acebb-ad33-4775-a842-3df6e4cce3fb"
      },
      "source": [
        "## 下载安装Pytorch"
      ]
    },
    {
      "cell_type": "code",
      "execution_count": null,
      "id": "f9c9f8de-2c5e-477e-8893-f1435e3ff331",
      "metadata": {
        "id": "f9c9f8de-2c5e-477e-8893-f1435e3ff331",
        "colab": {
          "base_uri": "https://localhost:8080/"
        },
        "outputId": "2140fcc4-ad8d-4ac4-df63-4ef4a5483775"
      },
      "outputs": [
        {
          "output_type": "stream",
          "name": "stdout",
          "text": [
            "Looking in indexes: https://pypi.org/simple, https://us-python.pkg.dev/colab-wheels/public/simple/, https://download.pytorch.org/whl/cu113\n",
            "Requirement already satisfied: torch in /usr/local/lib/python3.8/dist-packages (1.13.0+cu116)\n",
            "Requirement already satisfied: torchvision in /usr/local/lib/python3.8/dist-packages (0.14.0+cu116)\n",
            "Requirement already satisfied: torchaudio in /usr/local/lib/python3.8/dist-packages (0.13.0+cu116)\n",
            "Requirement already satisfied: typing-extensions in /usr/local/lib/python3.8/dist-packages (from torch) (4.4.0)\n",
            "Requirement already satisfied: pillow!=8.3.*,>=5.3.0 in /usr/local/lib/python3.8/dist-packages (from torchvision) (7.1.2)\n",
            "Requirement already satisfied: numpy in /usr/local/lib/python3.8/dist-packages (from torchvision) (1.21.6)\n",
            "Requirement already satisfied: requests in /usr/local/lib/python3.8/dist-packages (from torchvision) (2.25.1)\n",
            "Requirement already satisfied: chardet<5,>=3.0.2 in /usr/local/lib/python3.8/dist-packages (from requests->torchvision) (4.0.0)\n",
            "Requirement already satisfied: idna<3,>=2.5 in /usr/local/lib/python3.8/dist-packages (from requests->torchvision) (2.10)\n",
            "Requirement already satisfied: urllib3<1.27,>=1.21.1 in /usr/local/lib/python3.8/dist-packages (from requests->torchvision) (1.26.13)\n",
            "Requirement already satisfied: certifi>=2017.4.17 in /usr/local/lib/python3.8/dist-packages (from requests->torchvision) (2022.12.7)\n"
          ]
        }
      ],
      "source": [
        "!pip3 install torch torchvision torchaudio --extra-index-url https://download.pytorch.org/whl/cu113"
      ]
    },
    {
      "cell_type": "markdown",
      "id": "5628a6f7-e356-4d45-95ee-17fcb316b3c7",
      "metadata": {
        "id": "5628a6f7-e356-4d45-95ee-17fcb316b3c7"
      },
      "source": [
        "## 创建目录"
      ]
    },
    {
      "cell_type": "code",
      "execution_count": null,
      "id": "d149db7a-5f6e-4513-b5c2-72fdf3eb3e2a",
      "metadata": {
        "id": "d149db7a-5f6e-4513-b5c2-72fdf3eb3e2a"
      },
      "outputs": [],
      "source": [
        "import os"
      ]
    },
    {
      "cell_type": "code",
      "execution_count": null,
      "id": "97a32738-da46-4b63-8b37-8a37dbf79602",
      "metadata": {
        "id": "97a32738-da46-4b63-8b37-8a37dbf79602"
      },
      "outputs": [],
      "source": [
        "# 存放结果文件\n",
        "os.mkdir('output')\n",
        "\n",
        "# 存放训练得到的模型权重\n",
        "os.mkdir('checkpoints')\n",
        "\n",
        "# 存放生成的图表\n",
        "os.mkdir('图表')"
      ]
    },
    {
      "cell_type": "markdown",
      "source": [
        "## 构建数据集"
      ],
      "metadata": {
        "id": "-YOKFGogkMqa"
      },
      "id": "-YOKFGogkMqa"
    },
    {
      "cell_type": "code",
      "source": [
        "# 下载数据集压缩包\n",
        "!wget https://zihao-openmmlab.obs.cn-east-3.myhuaweicloud.com/20220716-mmclassification/dataset/fruit30/fruit30_split.zip"
      ],
      "metadata": {
        "colab": {
          "base_uri": "https://localhost:8080/"
        },
        "id": "bh7IwwdxkRaF",
        "outputId": "1183327f-aa4e-4bec-f92a-24e66be32bbb"
      },
      "id": "bh7IwwdxkRaF",
      "execution_count": null,
      "outputs": [
        {
          "output_type": "stream",
          "name": "stdout",
          "text": [
            "--2023-01-10 12:05:08--  https://zihao-openmmlab.obs.cn-east-3.myhuaweicloud.com/20220716-mmclassification/dataset/fruit30/fruit30_split.zip\n",
            "Resolving zihao-openmmlab.obs.cn-east-3.myhuaweicloud.com (zihao-openmmlab.obs.cn-east-3.myhuaweicloud.com)... 121.36.235.132\n",
            "Connecting to zihao-openmmlab.obs.cn-east-3.myhuaweicloud.com (zihao-openmmlab.obs.cn-east-3.myhuaweicloud.com)|121.36.235.132|:443... connected.\n",
            "HTTP request sent, awaiting response... 200 OK\n",
            "Length: 226278151 (216M) [application/zip]\n",
            "Saving to: ‘fruit30_split.zip’\n",
            "\n",
            "fruit30_split.zip   100%[===================>] 215.79M  35.1MB/s    in 6.3s    \n",
            "\n",
            "2023-01-10 12:05:15 (34.5 MB/s) - ‘fruit30_split.zip’ saved [226278151/226278151]\n",
            "\n"
          ]
        }
      ]
    },
    {
      "cell_type": "code",
      "source": [
        "# 解压\n",
        "!unzip fruit30_split.zip >> /dev/null\n",
        "\n",
        "# 删除压缩包\n",
        "!rm fruit30_split.zip"
      ],
      "metadata": {
        "id": "4a1YgjHdkRSa"
      },
      "id": "4a1YgjHdkRSa",
      "execution_count": null,
      "outputs": []
    },
    {
      "cell_type": "markdown",
      "source": [
        "# 基于迁移学习微调训练的基础版图像分类模型\n",
        "\n"
      ],
      "metadata": {
        "id": "EhEHcrd7Ss_4"
      },
      "id": "EhEHcrd7Ss_4"
    },
    {
      "cell_type": "code",
      "source": [
        "import time\n",
        "import os\n",
        "\n",
        "import numpy as np\n",
        "from tqdm import tqdm\n",
        "\n",
        "import torch\n",
        "import torchvision\n",
        "import torch.nn as nn\n",
        "import torch.nn.functional as F\n",
        "\n",
        "import matplotlib.pyplot as plt\n",
        "%matplotlib inline\n",
        "\n",
        "# 忽略烦人的红色提示\n",
        "import warnings\n",
        "warnings.filterwarnings(\"ignore\")"
      ],
      "metadata": {
        "id": "L_QrrCvCS4QZ"
      },
      "id": "L_QrrCvCS4QZ",
      "execution_count": null,
      "outputs": []
    },
    {
      "cell_type": "code",
      "source": [
        "# 有 GPU 就用 GPU，没有就用 CPU\n",
        "device = torch.device('cuda:0' if torch.cuda.is_available() else 'cpu')\n",
        "print('device', device)"
      ],
      "metadata": {
        "id": "saJX2Dzqo2mO",
        "colab": {
          "base_uri": "https://localhost:8080/"
        },
        "outputId": "8e57fe23-5ceb-4bab-fd65-addfcfaf4975"
      },
      "id": "saJX2Dzqo2mO",
      "execution_count": null,
      "outputs": [
        {
          "output_type": "stream",
          "name": "stdout",
          "text": [
            "device cuda:0\n"
          ]
        }
      ]
    },
    {
      "cell_type": "code",
      "source": [
        "from torchvision import transforms\n",
        "\n",
        "# 训练集图像预处理：缩放裁剪、图像增强、转 Tensor、归一化\n",
        "train_transform = transforms.Compose([transforms.RandomResizedCrop(224),\n",
        "                                      transforms.RandomHorizontalFlip(),\n",
        "                                      transforms.ToTensor(),\n",
        "                                      transforms.Normalize([0.485, 0.456, 0.406], [0.229, 0.224, 0.225])\n",
        "                                     ])\n",
        "\n",
        "# 测试集图像预处理-RCTN：缩放、裁剪、转 Tensor、归一化\n",
        "test_transform = transforms.Compose([transforms.Resize(256),\n",
        "                                     transforms.CenterCrop(224),\n",
        "                                     transforms.ToTensor(),\n",
        "                                     transforms.Normalize(\n",
        "                                         mean=[0.485, 0.456, 0.406], \n",
        "                                         std=[0.229, 0.224, 0.225])\n",
        "                                    ])"
      ],
      "metadata": {
        "id": "kZEQXW8yo2-d"
      },
      "id": "kZEQXW8yo2-d",
      "execution_count": null,
      "outputs": []
    },
    {
      "cell_type": "code",
      "source": [
        "# 数据集文件夹路径\n",
        "dataset_dir = 'fruit30_split'\n",
        "\n",
        "\n",
        "train_path = os.path.join(dataset_dir, 'train')\n",
        "test_path = os.path.join(dataset_dir, 'val')\n",
        "print('训练集路径', train_path)\n",
        "print('测试集路径', test_path)"
      ],
      "metadata": {
        "id": "X591MgNDo3Ny",
        "colab": {
          "base_uri": "https://localhost:8080/"
        },
        "outputId": "83f1e092-d0b5-4a83-af5a-00b80b530abf"
      },
      "id": "X591MgNDo3Ny",
      "execution_count": null,
      "outputs": [
        {
          "output_type": "stream",
          "name": "stdout",
          "text": [
            "训练集路径 fruit30_split/train\n",
            "测试集路径 fruit30_split/val\n"
          ]
        }
      ]
    },
    {
      "cell_type": "code",
      "source": [
        "from torchvision import datasets\n",
        "\n",
        "# 载入训练集\n",
        "train_dataset = datasets.ImageFolder(train_path, train_transform)\n",
        "\n",
        "# root：图片存储的根目录。\n",
        "# transform：对图片进行预处理的操作（函数），原始图片作为输入，返回一个转换后的图片。\n",
        "\n",
        "# 载入测试集\n",
        "test_dataset = datasets.ImageFolder(test_path, test_transform)\n",
        "\n",
        "# 查看训练集\n",
        "print('训练集图像数量', len(train_dataset))\n",
        "print('类别个数', len(train_dataset.classes))\n",
        "print('各类别名称', train_dataset.classes)\n",
        "\n",
        "\n",
        "# 查看测试集\n",
        "print('测试集图像数量', len(test_dataset))\n",
        "print('类别个数', len(test_dataset.classes))\n",
        "print('各类别名称', test_dataset.classes)"
      ],
      "metadata": {
        "id": "FRnxvrtlo9gQ",
        "colab": {
          "base_uri": "https://localhost:8080/"
        },
        "outputId": "63ac5697-14dd-4edd-a5b5-1f2b3201248d"
      },
      "id": "FRnxvrtlo9gQ",
      "execution_count": null,
      "outputs": [
        {
          "output_type": "stream",
          "name": "stdout",
          "text": [
            "训练集图像数量 4375\n",
            "类别个数 30\n",
            "各类别名称 ['哈密瓜', '圣女果', '山竹', '杨梅', '柚子', '柠檬', '桂圆', '梨', '椰子', '榴莲', '火龙果', '猕猴桃', '石榴', '砂糖橘', '胡萝卜', '脐橙', '芒果', '苦瓜', '苹果-红', '苹果-青', '草莓', '荔枝', '菠萝', '葡萄-白', '葡萄-红', '西瓜', '西红柿', '车厘子', '香蕉', '黄瓜']\n",
            "测试集图像数量 1078\n",
            "类别个数 30\n",
            "各类别名称 ['哈密瓜', '圣女果', '山竹', '杨梅', '柚子', '柠檬', '桂圆', '梨', '椰子', '榴莲', '火龙果', '猕猴桃', '石榴', '砂糖橘', '胡萝卜', '脐橙', '芒果', '苦瓜', '苹果-红', '苹果-青', '草莓', '荔枝', '菠萝', '葡萄-白', '葡萄-红', '西瓜', '西红柿', '车厘子', '香蕉', '黄瓜']\n"
          ]
        }
      ]
    },
    {
      "cell_type": "code",
      "source": [
        "class_names = train_dataset.classes\n",
        "n_class = len(class_names)\n",
        "\n",
        "\n",
        "class_names # 显示类别"
      ],
      "metadata": {
        "id": "q6Ol-pYjo9tu",
        "colab": {
          "base_uri": "https://localhost:8080/"
        },
        "outputId": "5943b80a-e721-4ae0-fe8c-79fbe21ce6c9"
      },
      "id": "q6Ol-pYjo9tu",
      "execution_count": null,
      "outputs": [
        {
          "output_type": "execute_result",
          "data": {
            "text/plain": [
              "['哈密瓜',\n",
              " '圣女果',\n",
              " '山竹',\n",
              " '杨梅',\n",
              " '柚子',\n",
              " '柠檬',\n",
              " '桂圆',\n",
              " '梨',\n",
              " '椰子',\n",
              " '榴莲',\n",
              " '火龙果',\n",
              " '猕猴桃',\n",
              " '石榴',\n",
              " '砂糖橘',\n",
              " '胡萝卜',\n",
              " '脐橙',\n",
              " '芒果',\n",
              " '苦瓜',\n",
              " '苹果-红',\n",
              " '苹果-青',\n",
              " '草莓',\n",
              " '荔枝',\n",
              " '菠萝',\n",
              " '葡萄-白',\n",
              " '葡萄-红',\n",
              " '西瓜',\n",
              " '西红柿',\n",
              " '车厘子',\n",
              " '香蕉',\n",
              " '黄瓜']"
            ]
          },
          "metadata": {},
          "execution_count": 18
        }
      ]
    },
    {
      "cell_type": "code",
      "source": [
        "# 映射关系：索引号 到 类别\n",
        "idx_to_labels = {y:x for x,y in train_dataset.class_to_idx.items()}\n",
        "\n",
        "\n",
        "idx_to_labels"
      ],
      "metadata": {
        "id": "YrWirQarpT_U",
        "colab": {
          "base_uri": "https://localhost:8080/"
        },
        "outputId": "892fb8e2-b8f0-4227-cf0a-70ee7b812a0a"
      },
      "id": "YrWirQarpT_U",
      "execution_count": null,
      "outputs": [
        {
          "output_type": "execute_result",
          "data": {
            "text/plain": [
              "{0: '哈密瓜',\n",
              " 1: '圣女果',\n",
              " 2: '山竹',\n",
              " 3: '杨梅',\n",
              " 4: '柚子',\n",
              " 5: '柠檬',\n",
              " 6: '桂圆',\n",
              " 7: '梨',\n",
              " 8: '椰子',\n",
              " 9: '榴莲',\n",
              " 10: '火龙果',\n",
              " 11: '猕猴桃',\n",
              " 12: '石榴',\n",
              " 13: '砂糖橘',\n",
              " 14: '胡萝卜',\n",
              " 15: '脐橙',\n",
              " 16: '芒果',\n",
              " 17: '苦瓜',\n",
              " 18: '苹果-红',\n",
              " 19: '苹果-青',\n",
              " 20: '草莓',\n",
              " 21: '荔枝',\n",
              " 22: '菠萝',\n",
              " 23: '葡萄-白',\n",
              " 24: '葡萄-红',\n",
              " 25: '西瓜',\n",
              " 26: '西红柿',\n",
              " 27: '车厘子',\n",
              " 28: '香蕉',\n",
              " 29: '黄瓜'}"
            ]
          },
          "metadata": {},
          "execution_count": 19
        }
      ]
    },
    {
      "cell_type": "code",
      "source": [
        "# 保存为本地的 npy 文件\n",
        "np.save('idx_to_labels.npy', idx_to_labels)\n",
        "np.save('labels_to_idx.npy', train_dataset.class_to_idx)"
      ],
      "metadata": {
        "id": "EcBnlbiHpUPZ"
      },
      "id": "EcBnlbiHpUPZ",
      "execution_count": null,
      "outputs": []
    },
    {
      "cell_type": "code",
      "source": [
        "# 定义数据加载器DataLoader\n",
        "from torch.utils.data import DataLoader\n",
        "\n",
        "BATCH_SIZE = 32\n",
        "\n",
        "# 训练集的数据加载器\n",
        "train_loader = DataLoader(train_dataset,\n",
        "                          batch_size=BATCH_SIZE,\n",
        "                          shuffle=True, # 随机打乱顺序\n",
        "                          num_workers=4 # 设置CPU线程\n",
        "                         )\n",
        "\n",
        "# 测试集的数据加载器\n",
        "test_loader = DataLoader(test_dataset,\n",
        "                         batch_size=BATCH_SIZE,\n",
        "                         shuffle=False,\n",
        "                         num_workers=4\n",
        "                        )"
      ],
      "metadata": {
        "id": "RadIYSBwpUcF"
      },
      "id": "RadIYSBwpUcF",
      "execution_count": null,
      "outputs": []
    },
    {
      "cell_type": "code",
      "source": [
        "# 查看一个batch的图像及其标签\n",
        "# DataLoader 是 python生成器，每次调用返回一个 batch 的数据\n",
        "images, labels = next(iter(train_loader)) # next()往往与iter()联合使用，next()表示迭代，iter()中为迭代对象，整体作为迭代器逐个遍历train_loader"
      ],
      "metadata": {
        "id": "80nDqavdsKd-"
      },
      "id": "80nDqavdsKd-",
      "execution_count": null,
      "outputs": []
    },
    {
      "cell_type": "code",
      "source": [
        "images.shape"
      ],
      "metadata": {
        "id": "6QNl95issSkk",
        "colab": {
          "base_uri": "https://localhost:8080/"
        },
        "outputId": "21460fc6-725a-4f29-c97f-11ff05744dd1"
      },
      "id": "6QNl95issSkk",
      "execution_count": null,
      "outputs": [
        {
          "output_type": "execute_result",
          "data": {
            "text/plain": [
              "torch.Size([32, 3, 224, 224])"
            ]
          },
          "metadata": {},
          "execution_count": 23
        }
      ]
    },
    {
      "cell_type": "code",
      "source": [
        "labels"
      ],
      "metadata": {
        "id": "mpinB53NsSzI",
        "colab": {
          "base_uri": "https://localhost:8080/"
        },
        "outputId": "b376b859-528a-41e6-c26d-18a9b3a2033a"
      },
      "id": "mpinB53NsSzI",
      "execution_count": null,
      "outputs": [
        {
          "output_type": "execute_result",
          "data": {
            "text/plain": [
              "tensor([21,  4,  5,  9, 27, 11,  5,  6, 24, 29,  0, 12, 27, 18,  2, 25, 18,  0,\n",
              "        20,  5,  1, 20,  8, 29, 25, 18, 14, 17, 11, 10, 26, 13])"
            ]
          },
          "metadata": {},
          "execution_count": 24
        }
      ]
    },
    {
      "cell_type": "code",
      "source": [
        "# 查看一个图像及其标签\n",
        "# 将数据集中的Tensor张量转为numpy的array数据类型\n",
        "images = images.numpy()"
      ],
      "metadata": {
        "id": "bGdPrxeJtwUp"
      },
      "id": "bGdPrxeJtwUp",
      "execution_count": null,
      "outputs": []
    },
    {
      "cell_type": "code",
      "source": [
        "images[2].shape"
      ],
      "metadata": {
        "id": "GP93WGSWt6VZ",
        "colab": {
          "base_uri": "https://localhost:8080/"
        },
        "outputId": "d96a3b5c-5806-4637-f8f5-837f9a84c3c8"
      },
      "id": "GP93WGSWt6VZ",
      "execution_count": null,
      "outputs": [
        {
          "output_type": "execute_result",
          "data": {
            "text/plain": [
              "(3, 224, 224)"
            ]
          },
          "metadata": {},
          "execution_count": 26
        }
      ]
    },
    {
      "cell_type": "code",
      "source": [
        "plt.hist(images[5].flatten(), bins=50) # 绘制柱状图，将images[2]拉伸为一维数组，然后绘制总共50个柱体，此处注意每个像素都被归一化\n",
        "plt.show()"
      ],
      "metadata": {
        "id": "uuAO81hHt6oT",
        "colab": {
          "base_uri": "https://localhost:8080/",
          "height": 265
        },
        "outputId": "cbe363fe-8dad-4828-f405-3c44fc061489"
      },
      "id": "uuAO81hHt6oT",
      "execution_count": null,
      "outputs": [
        {
          "output_type": "display_data",
          "data": {
            "text/plain": [
              "<Figure size 432x288 with 1 Axes>"
            ],
            "image/png": "[encoded data removed]"
          },
          "metadata": {
            "needs_background": "light"
          }
        }
      ]
    },
    {
      "cell_type": "code",
      "source": [
        "# 经过预处理的图像\n",
        "idx = 2\n",
        "plt.imshow(images[idx].transpose((1,2,0))) # 此处通道数要放在后面，转为(224, 224, 3)，原因是matplotlib库的要求\n",
        "plt.title('label:'+str(labels[idx].item()))"
      ],
      "metadata": {
        "id": "Oow9DsBuuACO",
        "colab": {
          "base_uri": "https://localhost:8080/",
          "height": 316
        },
        "outputId": "94897b7d-79ec-4366-abd1-b7ecd4b73d2e"
      },
      "id": "Oow9DsBuuACO",
      "execution_count": null,
      "outputs": [
        {
          "output_type": "stream",
          "name": "stderr",
          "text": [
            "WARNING:matplotlib.image:Clipping input data to the valid range for imshow with RGB data ([0..1] for floats or [0..255] for integers).\n"
          ]
        },
        {
          "output_type": "execute_result",
          "data": {
            "text/plain": [
              "Text(0.5, 1.0, 'label:5')"
            ]
          },
          "metadata": {},
          "execution_count": 28
        },
        {
          "output_type": "display_data",
          "data": {
            "text/plain": [
              "<Figure size 432x288 with 1 Axes>"
            ],
            "image/png": "[encoded data removed]"
          },
          "metadata": {
            "needs_background": "light"
          }
        }
      ]
    },
    {
      "cell_type": "code",
      "source": [
        "label = labels[idx].item()\n",
        "pred_classname = idx_to_labels[label]"
      ],
      "metadata": {
        "id": "rIahfjF6uFHR"
      },
      "id": "rIahfjF6uFHR",
      "execution_count": null,
      "outputs": []
    },
    {
      "cell_type": "code",
      "source": [
        "pred_classname"
      ],
      "metadata": {
        "id": "IDFyKl6uuOuq",
        "colab": {
          "base_uri": "https://localhost:8080/",
          "height": 35
        },
        "outputId": "500012d4-625c-4a2a-a1fb-9a5ddbb0a582"
      },
      "id": "IDFyKl6uuOuq",
      "execution_count": null,
      "outputs": [
        {
          "output_type": "execute_result",
          "data": {
            "text/plain": [
              "'柠檬'"
            ],
            "application/vnd.google.colaboratory.intrinsic+json": {
              "type": "string"
            }
          },
          "metadata": {},
          "execution_count": 30
        }
      ]
    },
    {
      "cell_type": "code",
      "source": [
        "# 展示像素归一化前的原始图像\n",
        "idx = 2\n",
        "mean = np.array([0.485, 0.456, 0.406])\n",
        "std = np.array([0.229, 0.224, 0.225])\n",
        "plt.imshow(np.clip(images[idx].transpose((1,2,0)) * std + mean, 0, 1))\n",
        "plt.title('label:'+ pred_classname)\n",
        "plt.show()"
      ],
      "metadata": {
        "id": "pa5Vutw2uXdJ",
        "colab": {
          "base_uri": "https://localhost:8080/",
          "height": 281
        },
        "outputId": "1ec8fd39-e754-4492-f5f5-7d49730a3384"
      },
      "id": "pa5Vutw2uXdJ",
      "execution_count": null,
      "outputs": [
        {
          "output_type": "display_data",
          "data": {
            "text/plain": [
              "<Figure size 432x288 with 1 Axes>"
            ],
            "image/png": "[encoded data removed]"
          },
          "metadata": {
            "needs_background": "light"
          }
        }
      ]
    },
    {
      "cell_type": "code",
      "source": [
        "# 开始训练！\n",
        "# 以一个batch为例进行训练\n",
        "\n",
        "from torchvision import models\n",
        "import torch.optim as optim"
      ],
      "metadata": {
        "id": "Y3YAVy5YuXpM"
      },
      "id": "Y3YAVy5YuXpM",
      "execution_count": null,
      "outputs": []
    },
    {
      "cell_type": "code",
      "source": [
        "# 设置迁移学习的三种方式\n",
        "\n",
        "# 选择一：只微调训练模型最后一层（全连接分类层）\n",
        "model = models.resnet18(pretrained=True) # 载入预训练模型\n",
        "\n",
        "# 修改全连接层，使得全连接层的输出与当前数据集类别数对应\n",
        "# 新建的层默认 requires_grad=True\n",
        "model.fc = nn.Linear(model.fc.in_features, n_class)"
      ],
      "metadata": {
        "id": "__zXbNB2uX5r",
        "colab": {
          "base_uri": "https://localhost:8080/",
          "height": 66,
          "referenced_widgets": [
            "910d06eed28043ba8e066507ed7f4a67",
            "87e1544d3998479ba95960a09cb21ce7",
            "dad9b820043a4e4d81f9025bcddbd864",
            "892af096b87f44b08a786240c8c1fbd5",
            "bd9f670d71fb46ab99919be3bdc922f8",
            "292bc3d60f2e40ea90617882baad16d6",
            "8e258464e33f4dea874dc09e217e8114",
            "ea27b886e60743aeb9b14b46681a0f95",
            "5a61e3b7483942c59a630c00b7049d3f",
            "8cd6db5ad8b24159b9dfcec8d3dd30c9",
            "50210aa8330e4993aeab177d2b15281a"
          ]
        },
        "outputId": "688b09bb-4b66-4a0e-f0f8-e7cc354358a6"
      },
      "id": "__zXbNB2uX5r",
      "execution_count": null,
      "outputs": [
        {
          "output_type": "stream",
          "name": "stderr",
          "text": [
            "Downloading: \"https://download.pytorch.org/models/resnet18-f37072fd.pth\" to /root/.cache/torch/hub/checkpoints/resnet18-f37072fd.pth\n"
          ]
        },
        {
          "output_type": "display_data",
          "data": {
            "text/plain": [
              "  0%|          | 0.00/44.7M [00:00<?, ?B/s]"
            ],
            "application/vnd.jupyter.widget-view+json": {
              "version_major": 2,
              "version_minor": 0,
              "model_id": "910d06eed28043ba8e066507ed7f4a67"
            }
          },
          "metadata": {}
        }
      ]
    },
    {
      "cell_type": "code",
      "source": [
        "model.fc"
      ],
      "metadata": {
        "id": "WzFI8BLDuxjP",
        "colab": {
          "base_uri": "https://localhost:8080/"
        },
        "outputId": "67b0f94e-2ebe-440c-bfaf-2128bd66baef"
      },
      "id": "WzFI8BLDuxjP",
      "execution_count": null,
      "outputs": [
        {
          "output_type": "execute_result",
          "data": {
            "text/plain": [
              "Linear(in_features=512, out_features=30, bias=True)"
            ]
          },
          "metadata": {},
          "execution_count": 34
        }
      ]
    },
    {
      "cell_type": "code",
      "source": [
        "# 只微调训练最后一层全连接层的参数，其它层不处理\n",
        "optimizer = optim.Adam(model.fc.parameters())"
      ],
      "metadata": {
        "id": "v6q9oWjXuy2S"
      },
      "id": "v6q9oWjXuy2S",
      "execution_count": null,
      "outputs": []
    },
    {
      "cell_type": "code",
      "source": [
        "# 选择二：微调训练所有层\n",
        "# model = models.resnet18(pretrained=True) # 载入预训练模型\n",
        "\n",
        "# model.fc = nn.Linear(model.fc.in_features, n_class)\n",
        "\n",
        "# optimizer = optim.Adam(model.parameters())\n"
      ],
      "metadata": {
        "id": "B4zXcsFiu3zD"
      },
      "id": "B4zXcsFiu3zD",
      "execution_count": null,
      "outputs": []
    },
    {
      "cell_type": "code",
      "source": [
        "# 选择三：随机初始化模型全部权重，从头训练所有层\n",
        "# model = models.resnet18(pretrained=False) # 只载入模型结构，不载入预训练权重参数\n",
        "\n",
        "# model.fc = nn.Linear(model.fc.in_features, n_class)\n",
        "\n",
        "# optimizer = optim.Adam(model.parameters())"
      ],
      "metadata": {
        "id": "yLue9pGkvO_2"
      },
      "id": "yLue9pGkvO_2",
      "execution_count": null,
      "outputs": []
    },
    {
      "cell_type": "code",
      "source": [
        "model = model.to(device)\n",
        "\n",
        "# 交叉熵损失函数\n",
        "criterion = nn.CrossEntropyLoss() \n",
        "\n",
        "# 训练轮次 Epoch\n",
        "EPOCHS = 20"
      ],
      "metadata": {
        "id": "zm816MSMvZ8u"
      },
      "id": "zm816MSMvZ8u",
      "execution_count": null,
      "outputs": []
    },
    {
      "cell_type": "code",
      "source": [
        "# 获得一个 batch 的数据和标注\n",
        "\n",
        "images, labels = next(iter(train_loader))\n",
        "images = images.to(device)\n",
        "labels = labels.to(device)"
      ],
      "metadata": {
        "id": "O20uPzlGv5Bw"
      },
      "id": "O20uPzlGv5Bw",
      "execution_count": null,
      "outputs": []
    },
    {
      "cell_type": "code",
      "source": [
        "# 输入模型，执行前向预测\n",
        "outputs = model(images)"
      ],
      "metadata": {
        "id": "U3P3EWWcwtRZ"
      },
      "id": "U3P3EWWcwtRZ",
      "execution_count": null,
      "outputs": []
    },
    {
      "cell_type": "code",
      "source": [
        "# 获得当前 batch 所有图像的预测类别 logit 分数\n",
        "outputs.shape"
      ],
      "metadata": {
        "id": "bWieSMVqwtHe",
        "colab": {
          "base_uri": "https://localhost:8080/"
        },
        "outputId": "a8a21663-627f-45d2-a81b-5f9bbd712289"
      },
      "id": "bWieSMVqwtHe",
      "execution_count": null,
      "outputs": [
        {
          "output_type": "execute_result",
          "data": {
            "text/plain": [
              "torch.Size([32, 30])"
            ]
          },
          "metadata": {},
          "execution_count": 39
        }
      ]
    },
    {
      "cell_type": "code",
      "source": [
        "# 由 logit，计算当前 batch 中，每个样本的平均交叉熵损失函数值\n",
        "loss = criterion(outputs, labels)\n",
        "optimizer.zero_grad() # 清除梯度\n",
        "loss.backward() # 反向传播\n",
        "optimizer.step() # 优化更新"
      ],
      "metadata": {
        "id": "HMezSLSSwtA2"
      },
      "id": "HMezSLSSwtA2",
      "execution_count": null,
      "outputs": []
    },
    {
      "cell_type": "code",
      "source": [
        "# 获得当前 batch 所有图像的预测类别\n",
        "_, preds = torch.max(outputs, 1)\n",
        "\n",
        "# 其实下划线相当于一个变量，比如定义变量a，然后后面又有一个变量preds，所以中间当然要加逗号\n",
        "# 不加下划线表示返回一行中最大的数，加下划线表示返回一行中最大数的索引。"
      ],
      "metadata": {
        "id": "qjLS5ZGMxsV7"
      },
      "id": "qjLS5ZGMxsV7",
      "execution_count": null,
      "outputs": []
    },
    {
      "cell_type": "code",
      "source": [
        "preds # 显示预测类别"
      ],
      "metadata": {
        "id": "716o65guxsTe",
        "colab": {
          "base_uri": "https://localhost:8080/"
        },
        "outputId": "3379b8c9-03ef-4701-b1b6-425c9b00f7aa"
      },
      "id": "716o65guxsTe",
      "execution_count": null,
      "outputs": [
        {
          "output_type": "execute_result",
          "data": {
            "text/plain": [
              "tensor([17, 10, 17, 24, 23, 21, 23, 23, 24,  4, 17, 23, 17, 21, 23, 23, 24, 12,\n",
              "        17,  4, 10, 17,  2, 17, 12, 16, 24,  2, 23, 17, 21, 17],\n",
              "       device='cuda:0')"
            ]
          },
          "metadata": {},
          "execution_count": 42
        }
      ]
    },
    {
      "cell_type": "code",
      "source": [
        "labels # 显示真正类别"
      ],
      "metadata": {
        "id": "YSJ-0IfkxsQ2",
        "colab": {
          "base_uri": "https://localhost:8080/"
        },
        "outputId": "4586cc38-fb44-42eb-f8ab-dd74c90d75d6"
      },
      "id": "YSJ-0IfkxsQ2",
      "execution_count": null,
      "outputs": [
        {
          "output_type": "execute_result",
          "data": {
            "text/plain": [
              "tensor([16, 21, 16, 18,  1, 11, 17,  3, 28,  8, 22, 25, 16, 23, 19, 27, 24, 15,\n",
              "         3, 24,  0, 28, 25, 16, 15, 28, 27, 22, 19, 12, 22, 21],\n",
              "       device='cuda:0')"
            ]
          },
          "metadata": {},
          "execution_count": 43
        }
      ]
    },
    {
      "cell_type": "code",
      "source": [
        "# 运行完整训练\n",
        "\n",
        "# 遍历每个epoch，每一个epoch遍历所有batch\n",
        "for epoch in tqdm(range(EPOCHS)):\n",
        "\n",
        "    model.train()\n",
        "\n",
        "    for images, labels in train_loader:  # 遍历每一个batch，在内层循环的一次循环中获得一个batch的数据和标注\n",
        "        images = images.to(device)\n",
        "        labels = labels.to(device)\n",
        "\n",
        "        outputs = model(images)\n",
        "        loss = criterion(outputs, labels) # 计算当前batch中，每个样本的平均交叉熵损失函数值\n",
        "        \n",
        "        optimizer.zero_grad()\n",
        "        loss.backward()\n",
        "        optimizer.step()"
      ],
      "metadata": {
        "id": "ctcRtZ69xsOO",
        "colab": {
          "base_uri": "https://localhost:8080/"
        },
        "outputId": "2a3801a0-73bb-4963-d773-386ffb231d61"
      },
      "id": "ctcRtZ69xsOO",
      "execution_count": null,
      "outputs": [
        {
          "output_type": "stream",
          "name": "stderr",
          "text": [
            "100%|██████████| 20/20 [08:19<00:00, 24.97s/it]\n"
          ]
        }
      ]
    },
    {
      "cell_type": "code",
      "source": [
        "# 进行测试！\n",
        "\n",
        "model.eval() # 使model转为evaluation模式\n",
        "with torch.no_grad():\n",
        "    correct = 0\n",
        "    total = 0\n",
        "    for images, labels in tqdm(test_loader):\n",
        "        images = images.to(device)\n",
        "        labels = labels.to(device)\n",
        "        outputs = model(images)\n",
        "        _, preds = torch.max(outputs, 1)\n",
        "        total += labels.size(0)\n",
        "        correct += (preds == labels).sum()\n",
        "\n",
        "    print('测试集上的准确率为 {:.3f} %'.format(100 * correct / total))"
      ],
      "metadata": {
        "id": "v9qarJIw0M_1",
        "colab": {
          "base_uri": "https://localhost:8080/"
        },
        "outputId": "a2dceee4-243c-4436-e86e-c3254ed1c24d"
      },
      "id": "v9qarJIw0M_1",
      "execution_count": null,
      "outputs": [
        {
          "output_type": "stream",
          "name": "stderr",
          "text": [
            "100%|██████████| 34/34 [00:07<00:00,  4.83it/s]"
          ]
        },
        {
          "output_type": "stream",
          "name": "stdout",
          "text": [
            "测试集上的准确率为 87.291 %\n"
          ]
        },
        {
          "output_type": "stream",
          "name": "stderr",
          "text": [
            "\n"
          ]
        }
      ]
    },
    {
      "cell_type": "code",
      "source": [
        "# 保存模型的参数\n",
        "torch.save(model, 'checkpoints/fruit30_pytorch_20220814.pth')"
      ],
      "metadata": {
        "id": "eiFKDN3T1Zi_"
      },
      "id": "eiFKDN3T1Zi_",
      "execution_count": null,
      "outputs": []
    },
    {
      "cell_type": "markdown",
      "source": [
        "## 优化后的图像分类模型 ##"
      ],
      "metadata": {
        "id": "CL2B_GK21VBK"
      },
      "id": "CL2B_GK21VBK"
    },
    {
      "cell_type": "code",
      "source": [
        "import time # 可以获取当前的年-月-日-时间\n",
        "import os\n",
        "from tqdm import tqdm\n",
        "\n",
        "import pandas as pd\n",
        "import numpy as np\n",
        "\n",
        "import torch\n",
        "import torchvision\n",
        "import torch.nn as nn\n",
        "import torch.nn.functional as F\n",
        "\n",
        "import matplotlib.pyplot as plt\n",
        "%matplotlib inline\n",
        "\n",
        "# 忽略烦人的红色提示\n",
        "import warnings\n",
        "warnings.filterwarnings(\"ignore\")\n",
        "\n",
        "# 获取计算硬件\n",
        "# 有 GPU 就用 GPU，没有就用 CPU\n",
        "device = torch.device('cuda:0' if torch.cuda.is_available() else 'cpu')\n",
        "print('device', device)"
      ],
      "metadata": {
        "id": "Di6HBcQk0Nk4",
        "colab": {
          "base_uri": "https://localhost:8080/"
        },
        "outputId": "943aae79-e2de-41bc-a41c-bdced5c23142"
      },
      "id": "Di6HBcQk0Nk4",
      "execution_count": null,
      "outputs": [
        {
          "output_type": "stream",
          "name": "stdout",
          "text": [
            "device cuda:0\n"
          ]
        }
      ]
    },
    {
      "cell_type": "code",
      "source": [
        "from torchvision import transforms\n",
        "\n",
        "# 训练集图像预处理：缩放裁剪、图像增强、转 Tensor、归一化\n",
        "train_transform = transforms.Compose([transforms.RandomResizedCrop(224),\n",
        "                                      transforms.RandomHorizontalFlip(),\n",
        "                                      transforms.ToTensor(),\n",
        "                                      transforms.Normalize([0.485, 0.456, 0.406], [0.229, 0.224, 0.225])\n",
        "                                     ])\n",
        "\n",
        "# 测试集图像预处理-RCTN：缩放、裁剪、转 Tensor、归一化\n",
        "test_transform = transforms.Compose([transforms.Resize(256),\n",
        "                                     transforms.CenterCrop(224),\n",
        "                                     transforms.ToTensor(),\n",
        "                                     transforms.Normalize(\n",
        "                                         mean=[0.485, 0.456, 0.406], \n",
        "                                         std=[0.229, 0.224, 0.225])\n",
        "                                    ])"
      ],
      "metadata": {
        "id": "G7_O1yOP0mpc"
      },
      "id": "G7_O1yOP0mpc",
      "execution_count": null,
      "outputs": []
    },
    {
      "cell_type": "code",
      "source": [
        "# 设置数据集文件夹路径\n",
        "dataset_dir = 'fruit30_split'\n",
        "train_path = os.path.join(dataset_dir, 'train')\n",
        "test_path = os.path.join(dataset_dir, 'val')\n",
        "from torchvision import datasets\n",
        "# 载入训练集\n",
        "train_dataset = datasets.ImageFolder(train_path, train_transform)\n",
        "# 载入测试集时\n",
        "test_dataset = datasets.ImageFolder(test_path, test_transform)"
      ],
      "metadata": {
        "id": "EwXjjr1Y0nLm"
      },
      "id": "EwXjjr1Y0nLm",
      "execution_count": null,
      "outputs": []
    },
    {
      "cell_type": "code",
      "source": [
        "# 各类别名称\n",
        "class_names = train_dataset.classes\n",
        "n_class = len(class_names)\n",
        "# 映射关系：类别 到 索引号\n",
        "train_dataset.class_to_idx\n",
        "# 映射关系：索引号 到 类别\n",
        "idx_to_labels = {y:x for x,y in train_dataset.class_to_idx.items()}"
      ],
      "metadata": {
        "id": "O9GET0-77pjn"
      },
      "id": "O9GET0-77pjn",
      "execution_count": null,
      "outputs": []
    },
    {
      "cell_type": "code",
      "source": [
        "from torch.utils.data import DataLoader # DataLoader 是 python生成器，每次调用返回一个 batch 的数据\n",
        "\n",
        "BATCH_SIZE = 32\n",
        "\n",
        "# 训练集的数据加载器\n",
        "train_loader = DataLoader(train_dataset,\n",
        "                          batch_size=BATCH_SIZE,\n",
        "                          shuffle=True,\n",
        "                          num_workers=4\n",
        "                         )\n",
        "\n",
        "# 测试集的数据加载器\n",
        "test_loader = DataLoader(test_dataset,\n",
        "                         batch_size=BATCH_SIZE,\n",
        "                         shuffle=False,\n",
        "                         num_workers=4\n",
        "                        )"
      ],
      "metadata": {
        "id": "awfgLQIJ0nFH"
      },
      "id": "awfgLQIJ0nFH",
      "execution_count": null,
      "outputs": []
    },
    {
      "cell_type": "code",
      "source": [
        "# 导入训练所需要的包\n",
        "from torchvision import models\n",
        "import torch.optim as optim\n",
        "from torch.optim import lr_scheduler"
      ],
      "metadata": {
        "id": "aSdkzK2P6PSE"
      },
      "id": "aSdkzK2P6PSE",
      "execution_count": null,
      "outputs": []
    },
    {
      "cell_type": "code",
      "source": [
        "# 此处选择\n",
        "model = models.resnet18(pretrained=True) # 载入预训练模型\n",
        "\n",
        "# 修改全连接层，使得全连接层的输出与当前数据集类别数对应\n",
        "# 新建的层默认 requires_grad=True\n",
        "model.fc = nn.Linear(model.fc.in_features, n_class)\n",
        "# 只微调训练最后一层全连接层的参数，其它层冻结\n",
        "optimizer = optim.Adam(model.fc.parameters())"
      ],
      "metadata": {
        "id": "rHLFbLri6PPW"
      },
      "id": "rHLFbLri6PPW",
      "execution_count": null,
      "outputs": []
    },
    {
      "cell_type": "code",
      "source": [
        "model = model.to(device)\n",
        "\n",
        "# 交叉熵损失函数\n",
        "criterion = nn.CrossEntropyLoss() \n",
        "\n",
        "# 训练轮次 Epoch\n",
        "EPOCHS = 30\n",
        "\n",
        "# 学习率降低策略\n",
        "lr_scheduler = lr_scheduler.StepLR(optimizer, step_size=5, gamma=0.5) # 采用阶梯变化的学习率"
      ],
      "metadata": {
        "id": "37m8W2BW6PM3"
      },
      "id": "37m8W2BW6PM3",
      "execution_count": null,
      "outputs": []
    },
    {
      "cell_type": "code",
      "source": [
        "# 选取评估指标\n",
        "\n",
        "from sklearn.metrics import precision_score\n",
        "from sklearn.metrics import recall_score\n",
        "from sklearn.metrics import accuracy_score\n",
        "from sklearn.metrics import f1_score\n",
        "from sklearn.metrics import roc_auc_score"
      ],
      "metadata": {
        "id": "ILsMyO2Q6PJ7"
      },
      "id": "ILsMyO2Q6PJ7",
      "execution_count": null,
      "outputs": []
    },
    {
      "cell_type": "code",
      "source": [
        "# 用于在训练中的函数\n",
        "def train_one_batch(images, labels):\n",
        "    '''\n",
        "    运行一个 batch 的训练，返回当前 batch 的训练日志\n",
        "    '''\n",
        "    \n",
        "    # 获得一个 batch 的数据和标注\n",
        "    images = images.to(device)\n",
        "    labels = labels.to(device)\n",
        "    \n",
        "    outputs = model(images) # 输入模型，执行前向预测\n",
        "    loss = criterion(outputs, labels) # 计算当前 batch 中，每个样本的平均交叉熵损失函数值\n",
        "    \n",
        "    # 优化更新权重\n",
        "    optimizer.zero_grad()\n",
        "    loss.backward()\n",
        "    optimizer.step()\n",
        "    \n",
        "    # 获取当前 batch 的标签类别和预测类别\n",
        "    _, preds = torch.max(outputs, 1) # 获得当前 batch 所有图像的预测类别\n",
        "    preds = preds.cpu().numpy()\n",
        "    loss = loss.detach().cpu().numpy()\n",
        "    outputs = outputs.detach().cpu().numpy()\n",
        "    labels = labels.detach().cpu().numpy()\n",
        "    \n",
        "    log_train = {}\n",
        "    log_train['epoch'] = epoch\n",
        "    log_train['batch'] = batch_idx\n",
        "    # 计算分类评估指标\n",
        "    log_train['train_loss'] = loss\n",
        "    log_train['train_accuracy'] = accuracy_score(labels, preds)\n",
        "    # log_train['train_precision'] = precision_score(labels, preds, average='macro')\n",
        "    # log_train['train_recall'] = recall_score(labels, preds, average='macro')\n",
        "    # log_train['train_f1-score'] = f1_score(labels, preds, average='macro')\n",
        "    \n",
        "    return log_train"
      ],
      "metadata": {
        "id": "xJL1sQeX6PHS"
      },
      "id": "xJL1sQeX6PHS",
      "execution_count": null,
      "outputs": []
    },
    {
      "cell_type": "code",
      "source": [
        "# 用于在测试中的函数\n",
        "def evaluate_testset():\n",
        "    '''\n",
        "    在整个测试集上评估，返回分类评估指标日志\n",
        "    '''\n",
        "\n",
        "    loss_list = []\n",
        "    labels_list = []\n",
        "    preds_list = []\n",
        "    \n",
        "    with torch.no_grad():\n",
        "        for images, labels in test_loader: # 生成一个 batch 的数据和标注\n",
        "            images = images.to(device)\n",
        "            labels = labels.to(device)\n",
        "            outputs = model(images) # 输入模型，执行前向预测\n",
        "\n",
        "            # 获取整个测试集的标签类别和预测类别\n",
        "            _, preds = torch.max(outputs, 1) # 获得当前 batch 所有图像的预测类别\n",
        "            preds = preds.cpu().numpy()\n",
        "            loss = criterion(outputs, labels) # 由 logit，计算当前 batch 中，每个样本的平均交叉熵损失函数值\n",
        "            loss = loss.detach().cpu().numpy()\n",
        "            outputs = outputs.detach().cpu().numpy()\n",
        "            labels = labels.detach().cpu().numpy()\n",
        "\n",
        "            loss_list.append(loss)\n",
        "            labels_list.extend(labels)\n",
        "            preds_list.extend(preds)\n",
        "        \n",
        "    log_test = {}\n",
        "    log_test['epoch'] = epoch\n",
        "    \n",
        "    # 计算分类评估指标\n",
        "    log_test['test_loss'] = np.mean(loss)\n",
        "    # 注意accuracy（准确率）不等于precision（精确度）\n",
        "    log_test['test_accuracy'] = accuracy_score(labels_list, preds_list)\n",
        "    # 分析的对象不相同\n",
        "    log_test['test_precision'] = precision_score(labels_list, preds_list, average='macro') # 挑出的西瓜中有多少是好瓜\n",
        "    log_test['test_recall'] = recall_score(labels_list, preds_list, average='macro') # 即查全率，所有好瓜中有多少被挑出来\n",
        "\n",
        "    log_test['test_f1-score'] = f1_score(labels_list, preds_list, average='macro') # F1值的一般形式为查准率和查全率的调和均值,F1-score越大表示分类器性能越好\n",
        "\n",
        "    # average='macro'：用于多分类，只有两个属性可以选择 ‘macro’ 和 ‘weighted’ 。\n",
        "    # ' macro '：计算每个标签的指标，并找到它们的未加权平均值。不考虑样本类别是否平衡。' weighted '：计算每个标签的指标，并找到它们的平均值，对(每个标签的真实实例的数量)进行加权。\n",
        "\n",
        "    return log_test"
      ],
      "metadata": {
        "id": "pRjZ9muN-sol"
      },
      "id": "pRjZ9muN-sol",
      "execution_count": null,
      "outputs": []
    },
    {
      "cell_type": "code",
      "source": [
        "# 设置参数，记录日志\n",
        "epoch = 0\n",
        "batch_idx = 0\n",
        "best_test_accuracy = 0"
      ],
      "metadata": {
        "id": "EXTXElFk-smQ"
      },
      "id": "EXTXElFk-smQ",
      "execution_count": null,
      "outputs": []
    },
    {
      "cell_type": "code",
      "source": [
        "# 训练日志-训练集\n",
        "df_train_log = pd.DataFrame()\n",
        "log_train = {}\n",
        "log_train['epoch'] = 0\n",
        "log_train['batch'] = 0\n",
        "images, labels = next(iter(train_loader))\n",
        "log_train.update(train_one_batch(images, labels))\n",
        "df_train_log = df_train_log.append(log_train, ignore_index=True)"
      ],
      "metadata": {
        "id": "8mgBtNMI-sjY"
      },
      "id": "8mgBtNMI-sjY",
      "execution_count": null,
      "outputs": []
    },
    {
      "cell_type": "code",
      "source": [
        "df_train_log"
      ],
      "metadata": {
        "id": "krKa0vEa-sgw",
        "colab": {
          "base_uri": "https://localhost:8080/",
          "height": 81
        },
        "outputId": "fbef60bc-fbef-4af7-8f3a-c5d82b4332c9"
      },
      "id": "krKa0vEa-sgw",
      "execution_count": null,
      "outputs": [
        {
          "output_type": "execute_result",
          "data": {
            "text/plain": [
              "   epoch  batch train_loss  train_accuracy\n",
              "0    0.0    0.0  3.5010033          0.0625"
            ],
            "text/html": [
              "\n",
              "  <div id=\"df-70556157-e29f-4bc5-bcb0-fd35c3df2cc8\">\n",
              "    <div class=\"colab-df-container\">\n",
              "      <div>\n",
              "<style scoped>\n",
              "    .dataframe tbody tr th:only-of-type {\n",
              "        vertical-align: middle;\n",
              "    }\n",
              "\n",
              "    .dataframe tbody tr th {\n",
              "        vertical-align: top;\n",
              "    }\n",
              "\n",
              "    .dataframe thead th {\n",
              "        text-align: right;\n",
              "    }\n",
              "</style>\n",
              "<table border=\"1\" class=\"dataframe\">\n",
              "  <thead>\n",
              "    <tr style=\"text-align: right;\">\n",
              "      <th></th>\n",
              "      <th>epoch</th>\n",
              "      <th>batch</th>\n",
              "      <th>train_loss</th>\n",
              "      <th>train_accuracy</th>\n",
              "    </tr>\n",
              "  </thead>\n",
              "  <tbody>\n",
              "    <tr>\n",
              "      <th>0</th>\n",
              "      <td>0.0</td>\n",
              "      <td>0.0</td>\n",
              "      <td>3.5010033</td>\n",
              "      <td>0.0625</td>\n",
              "    </tr>\n",
              "  </tbody>\n",
              "</table>\n",
              "</div>\n",
              "      <button class=\"colab-df-convert\" onclick=\"convertToInteractive('df-70556157-e29f-4bc5-bcb0-fd35c3df2cc8')\"\n",
              "              title=\"Convert this dataframe to an interactive table.\"\n",
              "              style=\"display:none;\">\n",
              "        \n",
              "  <svg xmlns=\"http://www.w3.org/2000/svg\" height=\"24px\"viewBox=\"0 0 24 24\"\n",
              "       width=\"24px\">\n",
              "    <path d=\"M0 0h24v24H0V0z\" fill=\"none\"/>\n",
              "    <path d=\"M18.56 5.44l.94 2.06.94-2.06 2.06-.94-2.06-.94-.94-2.06-.94 2.06-2.06.94zm-11 1L8.5 8.5l.94-2.06 2.06-.94-2.06-.94L8.5 2.5l-.94 2.06-2.06.94zm10 10l.94 2.06.94-2.06 2.06-.94-2.06-.94-.94-2.06-.94 2.06-2.06.94z\"/><path d=\"M17.41 7.96l-1.37-1.37c-.4-.4-.92-.59-1.43-.59-.52 0-1.04.2-1.43.59L10.3 9.45l-7.72 7.72c-.78.78-.78 2.05 0 2.83L4 21.41c.39.39.9.59 1.41.59.51 0 1.02-.2 1.41-.59l7.78-7.78 2.81-2.81c.8-.78.8-2.07 0-2.86zM5.41 20L4 18.59l7.72-7.72 1.47 1.35L5.41 20z\"/>\n",
              "  </svg>\n",
              "      </button>\n",
              "      \n",
              "  <style>\n",
              "    .colab-df-container {\n",
              "      display:flex;\n",
              "      flex-wrap:wrap;\n",
              "      gap: 12px;\n",
              "    }\n",
              "\n",
              "    .colab-df-convert {\n",
              "      background-color: #E8F0FE;\n",
              "      border: none;\n",
              "      border-radius: 50%;\n",
              "      cursor: pointer;\n",
              "      display: none;\n",
              "      fill: #1967D2;\n",
              "      height: 32px;\n",
              "      padding: 0 0 0 0;\n",
              "      width: 32px;\n",
              "    }\n",
              "\n",
              "    .colab-df-convert:hover {\n",
              "      background-color: #E2EBFA;\n",
              "      box-shadow: 0px 1px 2px rgba(60, 64, 67, 0.3), 0px 1px 3px 1px rgba(60, 64, 67, 0.15);\n",
              "      fill: #174EA6;\n",
              "    }\n",
              "\n",
              "    [theme=dark] .colab-df-convert {\n",
              "      background-color: #3B4455;\n",
              "      fill: #D2E3FC;\n",
              "    }\n",
              "\n",
              "    [theme=dark] .colab-df-convert:hover {\n",
              "      background-color: #434B5C;\n",
              "      box-shadow: 0px 1px 3px 1px rgba(0, 0, 0, 0.15);\n",
              "      filter: drop-shadow(0px 1px 2px rgba(0, 0, 0, 0.3));\n",
              "      fill: #FFFFFF;\n",
              "    }\n",
              "  </style>\n",
              "\n",
              "      <script>\n",
              "        const buttonEl =\n",
              "          document.querySelector('#df-70556157-e29f-4bc5-bcb0-fd35c3df2cc8 button.colab-df-convert');\n",
              "        buttonEl.style.display =\n",
              "          google.colab.kernel.accessAllowed ? 'block' : 'none';\n",
              "\n",
              "        async function convertToInteractive(key) {\n",
              "          const element = document.querySelector('#df-70556157-e29f-4bc5-bcb0-fd35c3df2cc8');\n",
              "          const dataTable =\n",
              "            await google.colab.kernel.invokeFunction('convertToInteractive',\n",
              "                                                     [key], {});\n",
              "          if (!dataTable) return;\n",
              "\n",
              "          const docLinkHtml = 'Like what you see? Visit the ' +\n",
              "            '<a target=\"_blank\" href=https://colab.research.google.com/notebooks/data_table.ipynb>data table notebook</a>'\n",
              "            + ' to learn more about interactive tables.';\n",
              "          element.innerHTML = '';\n",
              "          dataTable['output_type'] = 'display_data';\n",
              "          await google.colab.output.renderOutput(dataTable, element);\n",
              "          const docLink = document.createElement('div');\n",
              "          docLink.innerHTML = docLinkHtml;\n",
              "          element.appendChild(docLink);\n",
              "        }\n",
              "      </script>\n",
              "    </div>\n",
              "  </div>\n",
              "  "
            ]
          },
          "metadata": {},
          "execution_count": 59
        }
      ]
    },
    {
      "cell_type": "code",
      "source": [
        "# 训练日志-测试集\n",
        "df_test_log = pd.DataFrame()\n",
        "log_test = {}\n",
        "log_test['epoch'] = 0\n",
        "log_test.update(evaluate_testset())\n",
        "df_test_log = df_test_log.append(log_test, ignore_index=True)"
      ],
      "metadata": {
        "id": "_i_vhyjx-sdp"
      },
      "id": "_i_vhyjx-sdp",
      "execution_count": null,
      "outputs": []
    },
    {
      "cell_type": "code",
      "source": [
        "df_test_log"
      ],
      "metadata": {
        "id": "ZDQmU-mtAzFI",
        "colab": {
          "base_uri": "https://localhost:8080/",
          "height": 81
        },
        "outputId": "94efa290-31d1-44ef-86da-62a5974a1d9f"
      },
      "id": "ZDQmU-mtAzFI",
      "execution_count": null,
      "outputs": [
        {
          "output_type": "execute_result",
          "data": {
            "text/plain": [
              "   epoch  test_loss  test_accuracy  test_precision  test_recall  test_f1-score\n",
              "0    0.0    3.39796       0.037106        0.022289     0.036386       0.020135"
            ],
            "text/html": [
              "\n",
              "  <div id=\"df-5ab8cfb9-7501-49a3-ab29-31a92e697222\">\n",
              "    <div class=\"colab-df-container\">\n",
              "      <div>\n",
              "<style scoped>\n",
              "    .dataframe tbody tr th:only-of-type {\n",
              "        vertical-align: middle;\n",
              "    }\n",
              "\n",
              "    .dataframe tbody tr th {\n",
              "        vertical-align: top;\n",
              "    }\n",
              "\n",
              "    .dataframe thead th {\n",
              "        text-align: right;\n",
              "    }\n",
              "</style>\n",
              "<table border=\"1\" class=\"dataframe\">\n",
              "  <thead>\n",
              "    <tr style=\"text-align: right;\">\n",
              "      <th></th>\n",
              "      <th>epoch</th>\n",
              "      <th>test_loss</th>\n",
              "      <th>test_accuracy</th>\n",
              "      <th>test_precision</th>\n",
              "      <th>test_recall</th>\n",
              "      <th>test_f1-score</th>\n",
              "    </tr>\n",
              "  </thead>\n",
              "  <tbody>\n",
              "    <tr>\n",
              "      <th>0</th>\n",
              "      <td>0.0</td>\n",
              "      <td>3.39796</td>\n",
              "      <td>0.037106</td>\n",
              "      <td>0.022289</td>\n",
              "      <td>0.036386</td>\n",
              "      <td>0.020135</td>\n",
              "    </tr>\n",
              "  </tbody>\n",
              "</table>\n",
              "</div>\n",
              "      <button class=\"colab-df-convert\" onclick=\"convertToInteractive('df-5ab8cfb9-7501-49a3-ab29-31a92e697222')\"\n",
              "              title=\"Convert this dataframe to an interactive table.\"\n",
              "              style=\"display:none;\">\n",
              "        \n",
              "  <svg xmlns=\"http://www.w3.org/2000/svg\" height=\"24px\"viewBox=\"0 0 24 24\"\n",
              "       width=\"24px\">\n",
              "    <path d=\"M0 0h24v24H0V0z\" fill=\"none\"/>\n",
              "    <path d=\"M18.56 5.44l.94 2.06.94-2.06 2.06-.94-2.06-.94-.94-2.06-.94 2.06-2.06.94zm-11 1L8.5 8.5l.94-2.06 2.06-.94-2.06-.94L8.5 2.5l-.94 2.06-2.06.94zm10 10l.94 2.06.94-2.06 2.06-.94-2.06-.94-.94-2.06-.94 2.06-2.06.94z\"/><path d=\"M17.41 7.96l-1.37-1.37c-.4-.4-.92-.59-1.43-.59-.52 0-1.04.2-1.43.59L10.3 9.45l-7.72 7.72c-.78.78-.78 2.05 0 2.83L4 21.41c.39.39.9.59 1.41.59.51 0 1.02-.2 1.41-.59l7.78-7.78 2.81-2.81c.8-.78.8-2.07 0-2.86zM5.41 20L4 18.59l7.72-7.72 1.47 1.35L5.41 20z\"/>\n",
              "  </svg>\n",
              "      </button>\n",
              "      \n",
              "  <style>\n",
              "    .colab-df-container {\n",
              "      display:flex;\n",
              "      flex-wrap:wrap;\n",
              "      gap: 12px;\n",
              "    }\n",
              "\n",
              "    .colab-df-convert {\n",
              "      background-color: #E8F0FE;\n",
              "      border: none;\n",
              "      border-radius: 50%;\n",
              "      cursor: pointer;\n",
              "      display: none;\n",
              "      fill: #1967D2;\n",
              "      height: 32px;\n",
              "      padding: 0 0 0 0;\n",
              "      width: 32px;\n",
              "    }\n",
              "\n",
              "    .colab-df-convert:hover {\n",
              "      background-color: #E2EBFA;\n",
              "      box-shadow: 0px 1px 2px rgba(60, 64, 67, 0.3), 0px 1px 3px 1px rgba(60, 64, 67, 0.15);\n",
              "      fill: #174EA6;\n",
              "    }\n",
              "\n",
              "    [theme=dark] .colab-df-convert {\n",
              "      background-color: #3B4455;\n",
              "      fill: #D2E3FC;\n",
              "    }\n",
              "\n",
              "    [theme=dark] .colab-df-convert:hover {\n",
              "      background-color: #434B5C;\n",
              "      box-shadow: 0px 1px 3px 1px rgba(0, 0, 0, 0.15);\n",
              "      filter: drop-shadow(0px 1px 2px rgba(0, 0, 0, 0.3));\n",
              "      fill: #FFFFFF;\n",
              "    }\n",
              "  </style>\n",
              "\n",
              "      <script>\n",
              "        const buttonEl =\n",
              "          document.querySelector('#df-5ab8cfb9-7501-49a3-ab29-31a92e697222 button.colab-df-convert');\n",
              "        buttonEl.style.display =\n",
              "          google.colab.kernel.accessAllowed ? 'block' : 'none';\n",
              "\n",
              "        async function convertToInteractive(key) {\n",
              "          const element = document.querySelector('#df-5ab8cfb9-7501-49a3-ab29-31a92e697222');\n",
              "          const dataTable =\n",
              "            await google.colab.kernel.invokeFunction('convertToInteractive',\n",
              "                                                     [key], {});\n",
              "          if (!dataTable) return;\n",
              "\n",
              "          const docLinkHtml = 'Like what you see? Visit the ' +\n",
              "            '<a target=\"_blank\" href=https://colab.research.google.com/notebooks/data_table.ipynb>data table notebook</a>'\n",
              "            + ' to learn more about interactive tables.';\n",
              "          element.innerHTML = '';\n",
              "          dataTable['output_type'] = 'display_data';\n",
              "          await google.colab.output.renderOutput(dataTable, element);\n",
              "          const docLink = document.createElement('div');\n",
              "          docLink.innerHTML = docLinkHtml;\n",
              "          element.appendChild(docLink);\n",
              "        }\n",
              "      </script>\n",
              "    </div>\n",
              "  </div>\n",
              "  "
            ]
          },
          "metadata": {},
          "execution_count": 61
        }
      ]
    },
    {
      "cell_type": "markdown",
      "source": [
        "# 数据可视化 "
      ],
      "metadata": {
        "id": "aLtuU_n8BGXS"
      },
      "id": "aLtuU_n8BGXS"
    },
    {
      "cell_type": "code",
      "source": [
        "import wandb\n",
        "# For plotting learning curve\n",
        "from torch.utils.tensorboard import SummaryWriter\n",
        "\n",
        "wandb.init(project='fruit30', name=time.strftime('%m%d%H%M%S'))"
      ],
      "metadata": {
        "id": "ytr8Fu9PC-IA",
        "colab": {
          "base_uri": "https://localhost:8080/",
          "height": 178
        },
        "outputId": "7f8160ed-5e9c-4f66-c351-3efbb919a617"
      },
      "id": "ytr8Fu9PC-IA",
      "execution_count": null,
      "outputs": [
        {
          "output_type": "display_data",
          "data": {
            "text/plain": [
              "<IPython.core.display.Javascript object>"
            ],
            "application/javascript": [
              "\n",
              "        window._wandbApiKey = new Promise((resolve, reject) => {\n",
              "            function loadScript(url) {\n",
              "            return new Promise(function(resolve, reject) {\n",
              "                let newScript = document.createElement(\"script\");\n",
              "                newScript.onerror = reject;\n",
              "                newScript.onload = resolve;\n",
              "                document.body.appendChild(newScript);\n",
              "                newScript.src = url;\n",
              "            });\n",
              "            }\n",
              "            loadScript(\"https://cdn.jsdelivr.net/npm/postmate/build/postmate.min.js\").then(() => {\n",
              "            const iframe = document.createElement('iframe')\n",
              "            iframe.style.cssText = \"width:0;height:0;border:none\"\n",
              "            document.body.appendChild(iframe)\n",
              "            const handshake = new Postmate({\n",
              "                container: iframe,\n",
              "                url: 'https://wandb.ai/authorize'\n",
              "            });\n",
              "            const timeout = setTimeout(() => reject(\"Couldn't auto authenticate\"), 5000)\n",
              "            handshake.then(function(child) {\n",
              "                child.on('authorize', data => {\n",
              "                    clearTimeout(timeout)\n",
              "                    resolve(data)\n",
              "                });\n",
              "            });\n",
              "            })\n",
              "        });\n",
              "    "
            ]
          },
          "metadata": {}
        },
        {
          "output_type": "stream",
          "name": "stderr",
          "text": [
            "\u001b[34m\u001b[1mwandb\u001b[0m: Logging into wandb.ai. (Learn how to deploy a W&B server locally: https://wandb.me/wandb-server)\n",
            "\u001b[34m\u001b[1mwandb\u001b[0m: You can find your API key in your browser here: https://wandb.ai/authorize\n",
            "wandb: Paste an API key from your profile and hit enter, or press ctrl+c to quit: "
          ]
        },
        {
          "name": "stdout",
          "output_type": "stream",
          "text": [
            "··········\n"
          ]
        },
        {
          "output_type": "stream",
          "name": "stderr",
          "text": [
            "\u001b[34m\u001b[1mwandb\u001b[0m: Appending key for api.wandb.ai to your netrc file: /root/.netrc\n"
          ]
        },
        {
          "output_type": "display_data",
          "data": {
            "text/plain": [
              "<IPython.core.display.HTML object>"
            ],
            "text/html": [
              "Tracking run with wandb version 0.13.7"
            ]
          },
          "metadata": {}
        },
        {
          "output_type": "display_data",
          "data": {
            "text/plain": [
              "<IPython.core.display.HTML object>"
            ],
            "text/html": [
              "Run data is saved locally in <code>/content/wandb/run-20230110_122811-2ihycolr</code>"
            ]
          },
          "metadata": {}
        },
        {
          "output_type": "display_data",
          "data": {
            "text/plain": [
              "<IPython.core.display.HTML object>"
            ],
            "text/html": [
              "Syncing run <strong><a href=\"https://wandb.ai/vector-jason/fruit30/runs/2ihycolr\" target=\"_blank\">0110122557</a></strong> to <a href=\"https://wandb.ai/vector-jason/fruit30\" target=\"_blank\">Weights & Biases</a> (<a href=\"https://wandb.me/run\" target=\"_blank\">docs</a>)<br/>"
            ]
          },
          "metadata": {}
        },
        {
          "output_type": "execute_result",
          "data": {
            "text/html": [
              "<button onClick=\"this.nextSibling.style.display='block';this.style.display='none';\">Display W&B run</button><iframe src=\"https://wandb.ai/vector-jason/fruit30/runs/2ihycolr?jupyter=true\" style=\"border:none;width:100%;height:420px;display:none;\"></iframe>"
            ],
            "text/plain": [
              "<wandb.sdk.wandb_run.Run at 0x7f3402c52a30>"
            ]
          },
          "metadata": {},
          "execution_count": 63
        }
      ]
    },
    {
      "cell_type": "code",
      "source": [
        "# 进行训练！\n",
        "for epoch in range(1, EPOCHS+1):# 每训练一次epoch，就测试一次\n",
        "    \n",
        "    print(f'Epoch {epoch}/{EPOCHS}')\n",
        "    \n",
        "    ## 训练阶段\n",
        "    model.train()\n",
        "    for images, labels in tqdm(train_loader): # 获得一个 batch 的数据和标注\n",
        "        batch_idx += 1\n",
        "        log_train = train_one_batch(images, labels)\n",
        "        df_train_log = df_train_log.append(log_train, ignore_index=True)\n",
        "        wandb.log(log_train)\n",
        "        \n",
        "    lr_scheduler.step()\n",
        "\n",
        "    ## 测试阶段\n",
        "    model.eval()\n",
        "    log_test = evaluate_testset()\n",
        "    df_test_log = df_test_log.append(log_test, ignore_index=True)\n",
        "    wandb.log(log_test)\n",
        "    \n",
        "    # 保存最新的最佳模型文件\n",
        "    if log_test['test_accuracy'] > best_test_accuracy: \n",
        "        # 删除旧的最佳模型文件(如有)\n",
        "        old_best_checkpoint_path = 'checkpoints/best-{:.3f}.pth'.format(best_test_accuracy)\n",
        "        if os.path.exists(old_best_checkpoint_path):\n",
        "            os.remove(old_best_checkpoint_path)\n",
        "        # 保存新的最佳模型文件\n",
        "        new_best_checkpoint_path = 'checkpoints/best-{:.3f}.pth'.format(log_test['test_accuracy'])\n",
        "        torch.save(model, new_best_checkpoint_path)\n",
        "        print('保存新的最佳模型', 'checkpoints/best-{:.3f}.pth'.format(best_test_accuracy))\n",
        "        best_test_accuracy = log_test['test_accuracy']\n",
        "\n",
        "df_train_log.to_csv('训练日志-训练集.csv', index=False)\n",
        "df_test_log.to_csv('训练日志-测试集.csv', index=False)"
      ],
      "metadata": {
        "id": "W6I7c_HGAzCf",
        "colab": {
          "base_uri": "https://localhost:8080/"
        },
        "outputId": "2a4d1b7c-f9c3-4543-9641-dc62446ece77"
      },
      "id": "W6I7c_HGAzCf",
      "execution_count": null,
      "outputs": [
        {
          "output_type": "stream",
          "name": "stdout",
          "text": [
            "Epoch 1/30\n"
          ]
        },
        {
          "output_type": "stream",
          "name": "stderr",
          "text": [
            "100%|██████████| 137/137 [00:29<00:00,  4.70it/s]\n"
          ]
        },
        {
          "output_type": "stream",
          "name": "stdout",
          "text": [
            "保存新的最佳模型 checkpoints/best-0.000.pth\n",
            "Epoch 2/30\n"
          ]
        },
        {
          "output_type": "stream",
          "name": "stderr",
          "text": [
            "100%|██████████| 137/137 [00:29<00:00,  4.67it/s]\n"
          ]
        },
        {
          "output_type": "stream",
          "name": "stdout",
          "text": [
            "保存新的最佳模型 checkpoints/best-0.724.pth\n",
            "Epoch 3/30\n"
          ]
        },
        {
          "output_type": "stream",
          "name": "stderr",
          "text": [
            "100%|██████████| 137/137 [00:27<00:00,  5.01it/s]\n"
          ]
        },
        {
          "output_type": "stream",
          "name": "stdout",
          "text": [
            "保存新的最佳模型 checkpoints/best-0.786.pth\n",
            "Epoch 4/30\n"
          ]
        },
        {
          "output_type": "stream",
          "name": "stderr",
          "text": [
            "100%|██████████| 137/137 [00:27<00:00,  4.97it/s]\n"
          ]
        },
        {
          "output_type": "stream",
          "name": "stdout",
          "text": [
            "保存新的最佳模型 checkpoints/best-0.816.pth\n",
            "Epoch 5/30\n"
          ]
        },
        {
          "output_type": "stream",
          "name": "stderr",
          "text": [
            "100%|██████████| 137/137 [00:27<00:00,  4.97it/s]\n"
          ]
        },
        {
          "output_type": "stream",
          "name": "stdout",
          "text": [
            "保存新的最佳模型 checkpoints/best-0.829.pth\n",
            "Epoch 6/30\n"
          ]
        },
        {
          "output_type": "stream",
          "name": "stderr",
          "text": [
            "100%|██████████| 137/137 [00:27<00:00,  4.98it/s]\n"
          ]
        },
        {
          "output_type": "stream",
          "name": "stdout",
          "text": [
            "保存新的最佳模型 checkpoints/best-0.837.pth\n",
            "Epoch 7/30\n"
          ]
        },
        {
          "output_type": "stream",
          "name": "stderr",
          "text": [
            "100%|██████████| 137/137 [00:29<00:00,  4.70it/s]\n"
          ]
        },
        {
          "output_type": "stream",
          "name": "stdout",
          "text": [
            "保存新的最佳模型 checkpoints/best-0.846.pth\n",
            "Epoch 8/30\n"
          ]
        },
        {
          "output_type": "stream",
          "name": "stderr",
          "text": [
            "100%|██████████| 137/137 [00:27<00:00,  4.92it/s]\n"
          ]
        },
        {
          "output_type": "stream",
          "name": "stdout",
          "text": [
            "保存新的最佳模型 checkpoints/best-0.854.pth\n",
            "Epoch 9/30\n"
          ]
        },
        {
          "output_type": "stream",
          "name": "stderr",
          "text": [
            "100%|██████████| 137/137 [00:27<00:00,  4.90it/s]\n"
          ]
        },
        {
          "output_type": "stream",
          "name": "stdout",
          "text": [
            "保存新的最佳模型 checkpoints/best-0.856.pth\n",
            "Epoch 10/30\n"
          ]
        },
        {
          "output_type": "stream",
          "name": "stderr",
          "text": [
            "100%|██████████| 137/137 [00:27<00:00,  4.96it/s]\n"
          ]
        },
        {
          "output_type": "stream",
          "name": "stdout",
          "text": [
            "Epoch 11/30\n"
          ]
        },
        {
          "output_type": "stream",
          "name": "stderr",
          "text": [
            "100%|██████████| 137/137 [00:27<00:00,  4.96it/s]\n"
          ]
        },
        {
          "output_type": "stream",
          "name": "stdout",
          "text": [
            "保存新的最佳模型 checkpoints/best-0.858.pth\n",
            "Epoch 12/30\n"
          ]
        },
        {
          "output_type": "stream",
          "name": "stderr",
          "text": [
            "100%|██████████| 137/137 [00:27<00:00,  4.93it/s]\n"
          ]
        },
        {
          "output_type": "stream",
          "name": "stdout",
          "text": [
            "保存新的最佳模型 checkpoints/best-0.865.pth\n",
            "Epoch 13/30\n"
          ]
        },
        {
          "output_type": "stream",
          "name": "stderr",
          "text": [
            "100%|██████████| 137/137 [00:27<00:00,  4.90it/s]\n"
          ]
        },
        {
          "output_type": "stream",
          "name": "stdout",
          "text": [
            "Epoch 14/30\n"
          ]
        },
        {
          "output_type": "stream",
          "name": "stderr",
          "text": [
            "100%|██████████| 137/137 [00:27<00:00,  4.99it/s]\n"
          ]
        },
        {
          "output_type": "stream",
          "name": "stdout",
          "text": [
            "Epoch 15/30\n"
          ]
        },
        {
          "output_type": "stream",
          "name": "stderr",
          "text": [
            "100%|██████████| 137/137 [00:27<00:00,  5.00it/s]\n"
          ]
        },
        {
          "output_type": "stream",
          "name": "stdout",
          "text": [
            "Epoch 16/30\n"
          ]
        },
        {
          "output_type": "stream",
          "name": "stderr",
          "text": [
            "100%|██████████| 137/137 [00:30<00:00,  4.44it/s]\n"
          ]
        },
        {
          "output_type": "stream",
          "name": "stdout",
          "text": [
            "保存新的最佳模型 checkpoints/best-0.870.pth\n",
            "Epoch 17/30\n"
          ]
        },
        {
          "output_type": "stream",
          "name": "stderr",
          "text": [
            "100%|██████████| 137/137 [00:27<00:00,  4.96it/s]\n"
          ]
        },
        {
          "output_type": "stream",
          "name": "stdout",
          "text": [
            "Epoch 18/30\n"
          ]
        },
        {
          "output_type": "stream",
          "name": "stderr",
          "text": [
            "100%|██████████| 137/137 [00:27<00:00,  4.94it/s]\n"
          ]
        },
        {
          "output_type": "stream",
          "name": "stdout",
          "text": [
            "Epoch 19/30\n"
          ]
        },
        {
          "output_type": "stream",
          "name": "stderr",
          "text": [
            "100%|██████████| 137/137 [00:28<00:00,  4.87it/s]\n"
          ]
        },
        {
          "output_type": "stream",
          "name": "stdout",
          "text": [
            "Epoch 20/30\n"
          ]
        },
        {
          "output_type": "stream",
          "name": "stderr",
          "text": [
            "100%|██████████| 137/137 [00:27<00:00,  4.97it/s]\n"
          ]
        },
        {
          "output_type": "stream",
          "name": "stdout",
          "text": [
            "Epoch 21/30\n"
          ]
        },
        {
          "output_type": "stream",
          "name": "stderr",
          "text": [
            "100%|██████████| 137/137 [00:27<00:00,  4.94it/s]\n"
          ]
        },
        {
          "output_type": "stream",
          "name": "stdout",
          "text": [
            "Epoch 22/30\n"
          ]
        },
        {
          "output_type": "stream",
          "name": "stderr",
          "text": [
            "100%|██████████| 137/137 [00:27<00:00,  4.94it/s]\n"
          ]
        },
        {
          "output_type": "stream",
          "name": "stdout",
          "text": [
            "Epoch 23/30\n"
          ]
        },
        {
          "output_type": "stream",
          "name": "stderr",
          "text": [
            "100%|██████████| 137/137 [00:27<00:00,  4.98it/s]\n"
          ]
        },
        {
          "output_type": "stream",
          "name": "stdout",
          "text": [
            "Epoch 24/30\n"
          ]
        },
        {
          "output_type": "stream",
          "name": "stderr",
          "text": [
            "100%|██████████| 137/137 [00:27<00:00,  4.92it/s]\n"
          ]
        },
        {
          "output_type": "stream",
          "name": "stdout",
          "text": [
            "Epoch 25/30\n"
          ]
        },
        {
          "output_type": "stream",
          "name": "stderr",
          "text": [
            "100%|██████████| 137/137 [00:30<00:00,  4.45it/s]\n"
          ]
        },
        {
          "output_type": "stream",
          "name": "stdout",
          "text": [
            "Epoch 26/30\n"
          ]
        },
        {
          "output_type": "stream",
          "name": "stderr",
          "text": [
            "100%|██████████| 137/137 [00:28<00:00,  4.89it/s]\n"
          ]
        },
        {
          "output_type": "stream",
          "name": "stdout",
          "text": [
            "Epoch 27/30\n"
          ]
        },
        {
          "output_type": "stream",
          "name": "stderr",
          "text": [
            "100%|██████████| 137/137 [00:27<00:00,  4.95it/s]\n"
          ]
        },
        {
          "output_type": "stream",
          "name": "stdout",
          "text": [
            "Epoch 28/30\n"
          ]
        },
        {
          "output_type": "stream",
          "name": "stderr",
          "text": [
            "100%|██████████| 137/137 [00:27<00:00,  4.94it/s]\n"
          ]
        },
        {
          "output_type": "stream",
          "name": "stdout",
          "text": [
            "Epoch 29/30\n"
          ]
        },
        {
          "output_type": "stream",
          "name": "stderr",
          "text": [
            "100%|██████████| 137/137 [00:27<00:00,  5.00it/s]\n"
          ]
        },
        {
          "output_type": "stream",
          "name": "stdout",
          "text": [
            "Epoch 30/30\n"
          ]
        },
        {
          "output_type": "stream",
          "name": "stderr",
          "text": [
            "100%|██████████| 137/137 [00:27<00:00,  4.97it/s]\n"
          ]
        }
      ]
    },
    {
      "cell_type": "code",
      "source": [
        "# 进行测试！\n",
        "# 载入最佳模型作为当前模型\n",
        "model = torch.load('checkpoints/best-{:.3f}.pth'.format(best_test_accuracy))"
      ],
      "metadata": {
        "id": "FYq1B8aVAy_4"
      },
      "id": "FYq1B8aVAy_4",
      "execution_count": null,
      "outputs": []
    },
    {
      "cell_type": "code",
      "source": [
        "model.eval()\n",
        "print(evaluate_testset())"
      ],
      "metadata": {
        "id": "Xd7jT3e1Ay9S",
        "colab": {
          "base_uri": "https://localhost:8080/"
        },
        "outputId": "487fb8f7-dbe1-4425-ec3e-9a10f7f70c76"
      },
      "id": "Xd7jT3e1Ay9S",
      "execution_count": null,
      "outputs": [
        {
          "output_type": "stream",
          "name": "stdout",
          "text": [
            "{'epoch': 30, 'test_loss': 0.21017137, 'test_accuracy': 0.87569573283859, 'test_precision': 0.8820477973047148, 'test_recall': 0.875182138705754, 'test_f1-score': 0.8755093961249397}\n"
          ]
        }
      ]
    },
    {
      "cell_type": "code",
      "source": [
        "%reload_ext tensorboard\n",
        "%tensorboard --logdir=./runs/"
      ],
      "metadata": {
        "id": "kStFq66pFGgu"
      },
      "id": "kStFq66pFGgu",
      "execution_count": null,
      "outputs": []
    }
  ],
  "metadata": {
    "kernelspec": {
      "display_name": "env_name",
      "language": "python",
      "name": "python3"
    },
    "language_info": {
      "codemirror_mode": {
        "name": "ipython",
        "version": 3
      },
      "file_extension": ".py",
      "mimetype": "text/x-python",
      "name": "python",
      "nbconvert_exporter": "python",
      "pygments_lexer": "ipython3",
      "version": "3.8.0 (default, Nov  6 2019, 16:00:02) [MSC v.1916 64 bit (AMD64)]"
    },
    "vscode": {
      "interpreter": {
        "hash": "7be85bac0e8811ca9c056ab8ca5c11ce9279c0c37798e1a58c73b359c23cb773"
      }
    },
    "colab": {
      "provenance": [],
      "collapsed_sections": [
        "68aa2c39-1a4b-4d3c-ab35-3d44896f2f67",
        "aLtuU_n8BGXS"
      ],
      "toc_visible": true
    },
    "accelerator": "GPU",
    "gpuClass": "standard",
    "widgets": {
      "application/vnd.jupyter.widget-state+json": {
        "910d06eed28043ba8e066507ed7f4a67": {
          "model_module": "@jupyter-widgets/controls",
          "model_name": "HBoxModel",
          "model_module_version": "1.5.0",
          "state": {
            "_dom_classes": [],
            "_model_module": "@jupyter-widgets/controls",
            "_model_module_version": "1.5.0",
            "_model_name": "HBoxModel",
            "_view_count": null,
            "_view_module": "@jupyter-widgets/controls",
            "_view_module_version": "1.5.0",
            "_view_name": "HBoxView",
            "box_style": "",
            "children": [
              "IPY_MODEL_87e1544d3998479ba95960a09cb21ce7",
              "IPY_MODEL_dad9b820043a4e4d81f9025bcddbd864",
              "IPY_MODEL_892af096b87f44b08a786240c8c1fbd5"
            ],
            "layout": "IPY_MODEL_bd9f670d71fb46ab99919be3bdc922f8"
          }
        },
        "87e1544d3998479ba95960a09cb21ce7": {
          "model_module": "@jupyter-widgets/controls",
          "model_name": "HTMLModel",
          "model_module_version": "1.5.0",
          "state": {
            "_dom_classes": [],
            "_model_module": "@jupyter-widgets/controls",
            "_model_module_version": "1.5.0",
            "_model_name": "HTMLModel",
            "_view_count": null,
            "_view_module": "@jupyter-widgets/controls",
            "_view_module_version": "1.5.0",
            "_view_name": "HTMLView",
            "description": "",
            "description_tooltip": null,
            "layout": "IPY_MODEL_292bc3d60f2e40ea90617882baad16d6",
            "placeholder": "​",
            "style": "IPY_MODEL_8e258464e33f4dea874dc09e217e8114",
            "value": "100%"
          }
        },
        "dad9b820043a4e4d81f9025bcddbd864": {
          "model_module": "@jupyter-widgets/controls",
          "model_name": "FloatProgressModel",
          "model_module_version": "1.5.0",
          "state": {
            "_dom_classes": [],
            "_model_module": "@jupyter-widgets/controls",
            "_model_module_version": "1.5.0",
            "_model_name": "FloatProgressModel",
            "_view_count": null,
            "_view_module": "@jupyter-widgets/controls",
            "_view_module_version": "1.5.0",
            "_view_name": "ProgressView",
            "bar_style": "success",
            "description": "",
            "description_tooltip": null,
            "layout": "IPY_MODEL_ea27b886e60743aeb9b14b46681a0f95",
            "max": 46830571,
            "min": 0,
            "orientation": "horizontal",
            "style": "IPY_MODEL_5a61e3b7483942c59a630c00b7049d3f",
            "value": 46830571
          }
        },
        "892af096b87f44b08a786240c8c1fbd5": {
          "model_module": "@jupyter-widgets/controls",
          "model_name": "HTMLModel",
          "model_module_version": "1.5.0",
          "state": {
            "_dom_classes": [],
            "_model_module": "@jupyter-widgets/controls",
            "_model_module_version": "1.5.0",
            "_model_name": "HTMLModel",
            "_view_count": null,
            "_view_module": "@jupyter-widgets/controls",
            "_view_module_version": "1.5.0",
            "_view_name": "HTMLView",
            "description": "",
            "description_tooltip": null,
            "layout": "IPY_MODEL_8cd6db5ad8b24159b9dfcec8d3dd30c9",
            "placeholder": "​",
            "style": "IPY_MODEL_50210aa8330e4993aeab177d2b15281a",
            "value": " 44.7M/44.7M [00:00&lt;00:00, 204MB/s]"
          }
        },
        "bd9f670d71fb46ab99919be3bdc922f8": {
          "model_module": "@jupyter-widgets/base",
          "model_name": "LayoutModel",
          "model_module_version": "1.2.0",
          "state": {
            "_model_module": "@jupyter-widgets/base",
            "_model_module_version": "1.2.0",
            "_model_name": "LayoutModel",
            "_view_count": null,
            "_view_module": "@jupyter-widgets/base",
            "_view_module_version": "1.2.0",
            "_view_name": "LayoutView",
            "align_content": null,
            "align_items": null,
            "align_self": null,
            "border": null,
            "bottom": null,
            "display": null,
            "flex": null,
            "flex_flow": null,
            "grid_area": null,
            "grid_auto_columns": null,
            "grid_auto_flow": null,
            "grid_auto_rows": null,
            "grid_column": null,
            "grid_gap": null,
            "grid_row": null,
            "grid_template_areas": null,
            "grid_template_columns": null,
            "grid_template_rows": null,
            "height": null,
            "justify_content": null,
            "justify_items": null,
            "left": null,
            "margin": null,
            "max_height": null,
            "max_width": null,
            "min_height": null,
            "min_width": null,
            "object_fit": null,
            "object_position": null,
            "order": null,
            "overflow": null,
            "overflow_x": null,
            "overflow_y": null,
            "padding": null,
            "right": null,
            "top": null,
            "visibility": null,
            "width": null
          }
        },
        "292bc3d60f2e40ea90617882baad16d6": {
          "model_module": "@jupyter-widgets/base",
          "model_name": "LayoutModel",
          "model_module_version": "1.2.0",
          "state": {
            "_model_module": "@jupyter-widgets/base",
            "_model_module_version": "1.2.0",
            "_model_name": "LayoutModel",
            "_view_count": null,
            "_view_module": "@jupyter-widgets/base",
            "_view_module_version": "1.2.0",
            "_view_name": "LayoutView",
            "align_content": null,
            "align_items": null,
            "align_self": null,
            "border": null,
            "bottom": null,
            "display": null,
            "flex": null,
            "flex_flow": null,
            "grid_area": null,
            "grid_auto_columns": null,
            "grid_auto_flow": null,
            "grid_auto_rows": null,
            "grid_column": null,
            "grid_gap": null,
            "grid_row": null,
            "grid_template_areas": null,
            "grid_template_columns": null,
            "grid_template_rows": null,
            "height": null,
            "justify_content": null,
            "justify_items": null,
            "left": null,
            "margin": null,
            "max_height": null,
            "max_width": null,
            "min_height": null,
            "min_width": null,
            "object_fit": null,
            "object_position": null,
            "order": null,
            "overflow": null,
            "overflow_x": null,
            "overflow_y": null,
            "padding": null,
            "right": null,
            "top": null,
            "visibility": null,
            "width": null
          }
        },
        "8e258464e33f4dea874dc09e217e8114": {
          "model_module": "@jupyter-widgets/controls",
          "model_name": "DescriptionStyleModel",
          "model_module_version": "1.5.0",
          "state": {
            "_model_module": "@jupyter-widgets/controls",
            "_model_module_version": "1.5.0",
            "_model_name": "DescriptionStyleModel",
            "_view_count": null,
            "_view_module": "@jupyter-widgets/base",
            "_view_module_version": "1.2.0",
            "_view_name": "StyleView",
            "description_width": ""
          }
        },
        "ea27b886e60743aeb9b14b46681a0f95": {
          "model_module": "@jupyter-widgets/base",
          "model_name": "LayoutModel",
          "model_module_version": "1.2.0",
          "state": {
            "_model_module": "@jupyter-widgets/base",
            "_model_module_version": "1.2.0",
            "_model_name": "LayoutModel",
            "_view_count": null,
            "_view_module": "@jupyter-widgets/base",
            "_view_module_version": "1.2.0",
            "_view_name": "LayoutView",
            "align_content": null,
            "align_items": null,
            "align_self": null,
            "border": null,
            "bottom": null,
            "display": null,
            "flex": null,
            "flex_flow": null,
            "grid_area": null,
            "grid_auto_columns": null,
            "grid_auto_flow": null,
            "grid_auto_rows": null,
            "grid_column": null,
            "grid_gap": null,
            "grid_row": null,
            "grid_template_areas": null,
            "grid_template_columns": null,
            "grid_template_rows": null,
            "height": null,
            "justify_content": null,
            "justify_items": null,
            "left": null,
            "margin": null,
            "max_height": null,
            "max_width": null,
            "min_height": null,
            "min_width": null,
            "object_fit": null,
            "object_position": null,
            "order": null,
            "overflow": null,
            "overflow_x": null,
            "overflow_y": null,
            "padding": null,
            "right": null,
            "top": null,
            "visibility": null,
            "width": null
          }
        },
        "5a61e3b7483942c59a630c00b7049d3f": {
          "model_module": "@jupyter-widgets/controls",
          "model_name": "ProgressStyleModel",
          "model_module_version": "1.5.0",
          "state": {
            "_model_module": "@jupyter-widgets/controls",
            "_model_module_version": "1.5.0",
            "_model_name": "ProgressStyleModel",
            "_view_count": null,
            "_view_module": "@jupyter-widgets/base",
            "_view_module_version": "1.2.0",
            "_view_name": "StyleView",
            "bar_color": null,
            "description_width": ""
          }
        },
        "8cd6db5ad8b24159b9dfcec8d3dd30c9": {
          "model_module": "@jupyter-widgets/base",
          "model_name": "LayoutModel",
          "model_module_version": "1.2.0",
          "state": {
            "_model_module": "@jupyter-widgets/base",
            "_model_module_version": "1.2.0",
            "_model_name": "LayoutModel",
            "_view_count": null,
            "_view_module": "@jupyter-widgets/base",
            "_view_module_version": "1.2.0",
            "_view_name": "LayoutView",
            "align_content": null,
            "align_items": null,
            "align_self": null,
            "border": null,
            "bottom": null,
            "display": null,
            "flex": null,
            "flex_flow": null,
            "grid_area": null,
            "grid_auto_columns": null,
            "grid_auto_flow": null,
            "grid_auto_rows": null,
            "grid_column": null,
            "grid_gap": null,
            "grid_row": null,
            "grid_template_areas": null,
            "grid_template_columns": null,
            "grid_template_rows": null,
            "height": null,
            "justify_content": null,
            "justify_items": null,
            "left": null,
            "margin": null,
            "max_height": null,
            "max_width": null,
            "min_height": null,
            "min_width": null,
            "object_fit": null,
            "object_position": null,
            "order": null,
            "overflow": null,
            "overflow_x": null,
            "overflow_y": null,
            "padding": null,
            "right": null,
            "top": null,
            "visibility": null,
            "width": null
          }
        },
        "50210aa8330e4993aeab177d2b15281a": {
          "model_module": "@jupyter-widgets/controls",
          "model_name": "DescriptionStyleModel",
          "model_module_version": "1.5.0",
          "state": {
            "_model_module": "@jupyter-widgets/controls",
            "_model_module_version": "1.5.0",
            "_model_name": "DescriptionStyleModel",
            "_view_count": null,
            "_view_module": "@jupyter-widgets/base",
            "_view_module_version": "1.2.0",
            "_view_name": "StyleView",
            "description_width": ""
          }
        }
      }
    }
  },
  "nbformat": 4,
  "nbformat_minor": 5
}