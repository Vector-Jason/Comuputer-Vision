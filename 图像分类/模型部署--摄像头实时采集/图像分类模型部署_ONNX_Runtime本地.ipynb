{
  "nbformat": 4,
  "nbformat_minor": 0,
  "metadata": {
    "colab": {
      "provenance": []
    },
    "kernelspec": {
      "name": "python3",
      "display_name": "Python 3"
    },
    "language_info": {
      "name": "python"
    }
  },
  "cells": [
    {
      "cell_type": "markdown",
      "source": [
        "# 此处以ImageNet预训练模型为例，具体介绍ONNX Runtime本地部署"
      ],
      "metadata": {
        "id": "QVL1q6zpE3wd"
      }
    },
    {
      "cell_type": "markdown",
      "source": [
        "# 安装配置环境"
      ],
      "metadata": {
        "id": "PBKNMuFqGg1j"
      }
    },
    {
      "cell_type": "markdown",
      "source": [
        "## 安装 Pytorch"
      ],
      "metadata": {
        "id": "27JnX17DGuDa"
      }
    },
    {
      "cell_type": "code",
      "source": [
        "!pip3 install torch torchvision --extra-index-url https://download.pytorch.org/whl/cu113"
      ],
      "metadata": {
        "id": "61Wa955aGrf3"
      },
      "execution_count": null,
      "outputs": []
    },
    {
      "cell_type": "markdown",
      "source": [
        "## 安装 ONNX"
      ],
      "metadata": {
        "id": "P_qlamDGGyt9"
      }
    },
    {
      "cell_type": "code",
      "source": [
        "!pip install onnx -i https://pypi.tuna.tsinghua.edu.cn/simple"
      ],
      "metadata": {
        "id": "TI9BK1t0GzeJ"
      },
      "execution_count": null,
      "outputs": []
    },
    {
      "cell_type": "markdown",
      "source": [
        "## 安装推理引擎 ONNX Runtime"
      ],
      "metadata": {
        "id": "fPlhzV1WG1yX"
      }
    },
    {
      "cell_type": "code",
      "source": [
        "!pip install onnxruntime -i https://pypi.tuna.tsinghua.edu.cn/simple"
      ],
      "metadata": {
        "id": "SIVR-mzAG2Vf"
      },
      "execution_count": null,
      "outputs": []
    },
    {
      "cell_type": "markdown",
      "source": [
        "## 安装工具包"
      ],
      "metadata": {
        "id": "y6XwSWazG5By"
      }
    },
    {
      "cell_type": "code",
      "source": [
        "!pip install numpy pandas matplotlib tqdm opencv-python pillow -i https://pypi.tuna.tsinghua.edu.cn/simple"
      ],
      "metadata": {
        "id": "QTwtd4mhG7YD"
      },
      "execution_count": null,
      "outputs": []
    },
    {
      "cell_type": "markdown",
      "source": [
        "# ImageNet-ONNX Runtime本地部署-摄像头实时采集\n",
        "\n",
        "使用 ONNX Runtime 推理引擎，载入 ImageNet 预训练图像分类 ONNX 模型，预测摄像头实时画面。"
      ],
      "metadata": {
        "id": "BiZEeo_uImx9"
      }
    },
    {
      "cell_type": "markdown",
      "source": [
        "## 工具包"
      ],
      "metadata": {
        "id": "6ftZ8O_qJw0l"
      }
    },
    {
      "cell_type": "code",
      "source": [
        "import cv2\n",
        "from PIL import Image\n",
        "import time\n",
        "\n",
        "import onnxruntime\n",
        "\n",
        "import torch\n",
        "import torch.nn.functional as F\n",
        "from torchvision import transforms\n",
        "\n",
        "import pandas as pd\n",
        "import numpy as np\n",
        "\n",
        "import matplotlib.pyplot as plt\n",
        "%matplotlib inline"
      ],
      "metadata": {
        "id": "e3gN3cVRJuaR"
      },
      "execution_count": null,
      "outputs": []
    },
    {
      "cell_type": "markdown",
      "source": [
        "## 载入 onnx 模型，获取 ONNX Runtime 推理器"
      ],
      "metadata": {
        "id": "lkt1Sm9HJ1AH"
      }
    },
    {
      "cell_type": "code",
      "source": [
        "# 手动上传 'resnet18_imagenet.onnx' 文件\n",
        "\n",
        "ort_session = onnxruntime.InferenceSession('resnet18_imagenet.onnx')"
      ],
      "metadata": {
        "id": "sT_LTob4J1me"
      },
      "execution_count": null,
      "outputs": []
    },
    {
      "cell_type": "markdown",
      "source": [
        "## 载入ImageNet 1000图像分类标签"
      ],
      "metadata": {
        "id": "aEw71WylJ3u8"
      }
    },
    {
      "cell_type": "code",
      "source": [
        "# 手动上传 'imagenet_class_index.csv' 文件\n",
        "\n",
        "df = pd.read_csv('imagenet_class_index.csv')\n",
        "idx_to_labels = {}\n",
        "for idx, row in df.iterrows():\n",
        "    idx_to_labels[row['ID']] = row['class']"
      ],
      "metadata": {
        "id": "HAjWXv13J4Ue"
      },
      "execution_count": null,
      "outputs": []
    },
    {
      "cell_type": "markdown",
      "source": [
        "## 图像预处理"
      ],
      "metadata": {
        "id": "OMBZjo8yJ6X1"
      }
    },
    {
      "cell_type": "code",
      "source": [
        "# 测试集图像预处理-RCTN：缩放裁剪、转 Tensor、归一化\n",
        "test_transform = transforms.Compose([transforms.Resize(256),\n",
        "                                     transforms.CenterCrop(256),\n",
        "                                     transforms.ToTensor(),\n",
        "                                     transforms.Normalize(\n",
        "                                         mean=[0.485, 0.456, 0.406],\n",
        "                                         std=[0.229, 0.224, 0.225])\n",
        "                                    ])"
      ],
      "metadata": {
        "id": "rI9QbBALJ64s"
      },
      "execution_count": null,
      "outputs": []
    },
    {
      "cell_type": "markdown",
      "source": [
        "## 调用摄像头获取一帧画面"
      ],
      "metadata": {
        "id": "NiNR9WtbLAiN"
      }
    },
    {
      "cell_type": "code",
      "source": [
        "# 利用Opencv中的VideoCapture类获取摄像头，0为电脑默认摄像头\n",
        "cap = cv2.VideoCapture(0)\n",
        "\n",
        "# 拍照\n",
        "time.sleep(3) # 运行本代码后等几秒拍照\n",
        "\n",
        "# 从摄像头捕获一帧画面\n",
        "success, img_bgr = cap.read()\n",
        "\n",
        "# 关闭摄像头\n",
        "cap.release()\n",
        "\n",
        "# 关闭图像窗口\n",
        "cv2.destroyAllWindows()"
      ],
      "metadata": {
        "id": "RSVqlbYkLBff"
      },
      "execution_count": null,
      "outputs": []
    },
    {
      "cell_type": "code",
      "source": [
        "# 注意此时采集的每一画面格式为BGR\n",
        "\n",
        "img_bgr.shape"
      ],
      "metadata": {
        "id": "tmPuUNQeLD_k"
      },
      "execution_count": null,
      "outputs": []
    },
    {
      "cell_type": "code",
      "source": [
        "plt.imshow(img_bgr[:,:,::-1])\n",
        "plt.show()"
      ],
      "metadata": {
        "id": "kbaRtN_GLFRV"
      },
      "execution_count": null,
      "outputs": []
    },
    {
      "cell_type": "markdown",
      "source": [
        "## 图像转为Pillow格式"
      ],
      "metadata": {
        "id": "k8J6Lk2DLNfX"
      }
    },
    {
      "cell_type": "code",
      "source": [
        "img_rgb = cv2.cvtColor(img_bgr, cv2.COLOR_BGR2RGB) # BGR转RGB"
      ],
      "metadata": {
        "id": "nptKoI3QLUrz"
      },
      "execution_count": null,
      "outputs": []
    },
    {
      "cell_type": "code",
      "source": [
        "img_pil = Image.fromarray(img_rgb)"
      ],
      "metadata": {
        "id": "HdoCothlLWYV"
      },
      "execution_count": null,
      "outputs": []
    },
    {
      "cell_type": "code",
      "source": [
        "input_img = test_transform(img_pil)\n",
        "input_tensor = input_img.unsqueeze(0).numpy()"
      ],
      "metadata": {
        "id": "OrYw6f7fLYpj"
      },
      "execution_count": null,
      "outputs": []
    },
    {
      "cell_type": "code",
      "source": [
        "input_tensor.shape"
      ],
      "metadata": {
        "id": "DOgSQYqHLaid"
      },
      "execution_count": null,
      "outputs": []
    },
    {
      "cell_type": "markdown",
      "source": [
        "## 在ONNX Runtime下进行预测"
      ],
      "metadata": {
        "id": "8jsLPQzoMDzc"
      }
    },
    {
      "cell_type": "code",
      "source": [
        "# onnx runtime 输入\n",
        "ort_inputs = {'input': input_tensor}\n",
        "\n",
        "# onnx runtime 输出\n",
        "pred_logits = ort_session.run(['output'], ort_inputs)[0]\n",
        "pred_logits = torch.tensor(pred_logits)"
      ],
      "metadata": {
        "id": "SxneXznNLcU0"
      },
      "execution_count": null,
      "outputs": []
    },
    {
      "cell_type": "code",
      "source": [
        "pred_softmax = F.softmax(pred_logits, dim=1) # 对 logit 分数做 softmax 运算"
      ],
      "metadata": {
        "id": "kUz9Z5H4Le4-"
      },
      "execution_count": null,
      "outputs": []
    },
    {
      "cell_type": "code",
      "source": [
        "n = 3\n",
        "top_n = torch.topk(pred_softmax, n) # 取置信度最大的 n 个结果"
      ],
      "metadata": {
        "id": "U9bjdf4cLf5S"
      },
      "execution_count": null,
      "outputs": []
    },
    {
      "cell_type": "code",
      "source": [
        "# 获取置信度\n",
        "confs = top_n[0].cpu().detach().numpy().squeeze()\n",
        "\n",
        "# 获取id\n",
        "pred_ids = top_n[1].cpu().detach().numpy().squeeze()"
      ],
      "metadata": {
        "id": "91e7rMHuLiGY"
      },
      "execution_count": null,
      "outputs": []
    },
    {
      "cell_type": "markdown",
      "source": [
        "## 可视化处理"
      ],
      "metadata": {
        "id": "AFbTBSQxMfQ3"
      }
    },
    {
      "cell_type": "code",
      "source": [
        "# 使用Opencv在每一画面上加入英文\n",
        "\n",
        "for i in range(len(confs)):\n",
        "    pred_class = idx_to_labels[pred_ids[i]]\n",
        "    text = '{:<15} {:>.3f}'.format(pred_class, confs[i])\n",
        "\n",
        "    # 写字：图片，添加的文字，左上角坐标，字体，字体大小，颜色，线宽，线型\n",
        "    img_bgr = cv2.putText(img_bgr, text, (50, 80 + 80 * i), cv2.FONT_HERSHEY_SIMPLEX, 2.5, (0, 0, 255), 5, cv2.LINE_AA)\n",
        ""
      ],
      "metadata": {
        "id": "HrMCkRgFMjpY"
      },
      "execution_count": null,
      "outputs": []
    },
    {
      "cell_type": "code",
      "source": [
        "plt.imshow(img_bgr[:,:,::-1])\n",
        "plt.show()"
      ],
      "metadata": {
        "id": "KWshnnLPMkyo"
      },
      "execution_count": null,
      "outputs": []
    },
    {
      "cell_type": "markdown",
      "source": [
        "##  处理每一帧画面"
      ],
      "metadata": {
        "id": "PsMJShjfMm6w"
      }
    },
    {
      "cell_type": "code",
      "source": [
        "# 每一帧的处理封装为函数\n",
        "\n",
        "def process_frame(img_bgr):\n",
        "\n",
        "    '''\n",
        "    输入摄像头拍摄画面bgr-array，输出图像分类预测结果bgr-array\n",
        "    '''\n",
        "\n",
        "    # 记录该帧开始处理的时间\n",
        "    start_time = time.time()\n",
        "\n",
        "    ## 画面转成 RGB 的 Pillow 格式\n",
        "    img_rgb = cv2.cvtColor(img_bgr, cv2.COLOR_BGR2RGB) # BGR转RGB\n",
        "    img_pil = Image.fromarray(img_rgb) # array 转 PIL\n",
        "\n",
        "    ## 预处理\n",
        "    input_img = test_transform(img_pil) # 预处理\n",
        "    input_tensor = input_img.unsqueeze(0).numpy()\n",
        "\n",
        "    ## onnx runtime 预测\n",
        "    ort_inputs = {'input': input_tensor} # onnx runtime 输入\n",
        "    pred_logits = ort_session.run(['output'], ort_inputs)[0] # onnx runtime 输出\n",
        "    pred_logits = torch.tensor(pred_logits)\n",
        "    pred_softmax = F.softmax(pred_logits, dim=1) # 对 logit 分数做 softmax 运算\n",
        "\n",
        "    ## 解析top-n预测结果的类别和置信度\n",
        "    top_n = torch.topk(pred_softmax, 5) # 取置信度最大的 n 个结果\n",
        "    pred_ids = top_n[1].cpu().detach().numpy().squeeze() # 解析预测类别\n",
        "    confs = top_n[0].cpu().detach().numpy().squeeze() # 解析置信度\n",
        "\n",
        "    # 在图像上写英文\n",
        "    for i in range(len(confs)):\n",
        "        pred_class = idx_to_labels[pred_ids[i]]\n",
        "\n",
        "        # 写字：图片，添加的文字，左上角坐标，字体，字体大小，颜色，线宽，线型\n",
        "        text = '{:<15} {:>.3f}'.format(pred_class, confs[i])\n",
        "        img_bgr = cv2.putText(img_bgr, text, (50, 160 + 80 * i), cv2.FONT_HERSHEY_SIMPLEX, 2, (0, 0, 255), 4, cv2.LINE_AA)\n",
        "\n",
        "    # 记录该帧处理完毕的时间\n",
        "    end_time = time.time()\n",
        "    # 计算每秒处理图像帧数FPS\n",
        "    FPS = 1/(end_time - start_time)\n",
        "    # 图片，添加的文字，左上角坐标，字体，字体大小，颜色，线宽，线型\n",
        "    img_bgr = cv2.putText(img_bgr, 'FPS  '+str(int(FPS)), (50, 80), cv2.FONT_HERSHEY_SIMPLEX, 2, (255, 0, 255), 4, cv2.LINE_AA)\n",
        "\n",
        "    return img_bgr"
      ],
      "metadata": {
        "id": "ooy91zVwOaKG"
      },
      "execution_count": null,
      "outputs": []
    },
    {
      "cell_type": "markdown",
      "source": [
        "## 调用摄像头采集一帧就处理一帧"
      ],
      "metadata": {
        "id": "lXoof7NDOcz4"
      }
    },
    {
      "cell_type": "code",
      "source": [
        "# 调用摄像头逐帧实时处理模板\n",
        "# 不需修改任何代码，只需修改process_frame函数即可\n",
        "# 同济子豪兄 2021-7-8\n",
        "\n",
        "# 导入opencv-python\n",
        "import cv2\n",
        "import time\n",
        "\n",
        "# 获取摄像头，传入0表示获取系统默认摄像头\n",
        "cap = cv2.VideoCapture(0)\n",
        "\n",
        "# 打开cap\n",
        "cap.open(0)\n",
        "\n",
        "# 无限循环，直到break被触发\n",
        "while cap.isOpened():\n",
        "\n",
        "    # 获取画面\n",
        "    success, frame = cap.read()\n",
        "\n",
        "    if not success: # 如果获取画面不成功，则退出\n",
        "        print('获取画面不成功，退出')\n",
        "        break\n",
        "\n",
        "    ## 逐帧处理\n",
        "    frame = process_frame(frame)\n",
        "\n",
        "    # 展示处理后的三通道图像\n",
        "    cv2.imshow('my_window', frame)\n",
        "\n",
        "    key_pressed = cv2.waitKey(60) # 每隔多少毫秒，获取键盘哪个键被按下\n",
        "    # print('键盘上被按下的键：', key_pressed)\n",
        "\n",
        "    if key_pressed in [ord('q'),27]: # 按键盘上的q或esc退出（在英文输入法下）\n",
        "        break\n",
        "\n",
        "# 关闭摄像头\n",
        "cap.release()\n",
        "\n",
        "# 关闭图像窗口\n",
        "cv2.destroyAllWindows()"
      ],
      "metadata": {
        "id": "awvKWJl0OnDG"
      },
      "execution_count": null,
      "outputs": []
    }
  ]
}