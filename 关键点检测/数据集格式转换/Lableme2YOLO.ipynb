{
  "nbformat": 4,
  "nbformat_minor": 0,
  "metadata": {
    "colab": {
      "provenance": [],
      "gpuType": "T4"
    },
    "kernelspec": {
      "name": "python3",
      "display_name": "Python 3"
    },
    "language_info": {
      "name": "python"
    },
    "accelerator": "GPU"
  },
  "cells": [
    {
      "cell_type": "markdown",
      "source": [
        "# Lableme2YOLO\n",
        "\n",
        "将使用Labeleme标注的数据集转为YOLO格式，并基于YOLOv8进行训练"
      ],
      "metadata": {
        "id": "y6ziA0VTXqkW"
      }
    },
    {
      "cell_type": "markdown",
      "source": [
        "## 下载Labelme样例数据集"
      ],
      "metadata": {
        "id": "7y6MepnBYC0d"
      }
    },
    {
      "cell_type": "code",
      "execution_count": 4,
      "metadata": {
        "id": "Rcnn1EmgXXFh",
        "colab": {
          "base_uri": "https://localhost:8080/"
        },
        "outputId": "a21f5c31-9d8c-4ef6-fa42-f6b0a032b105"
      },
      "outputs": [
        {
          "output_type": "stream",
          "name": "stdout",
          "text": [
            "--2023-08-11 09:04:43--  https://zihao-download.obs.cn-east-3.myhuaweicloud.com/yolov8/datasets/SJB_25_Dataset.zip\n",
            "Resolving zihao-download.obs.cn-east-3.myhuaweicloud.com (zihao-download.obs.cn-east-3.myhuaweicloud.com)... 121.36.235.162, 121.36.235.163\n",
            "Connecting to zihao-download.obs.cn-east-3.myhuaweicloud.com (zihao-download.obs.cn-east-3.myhuaweicloud.com)|121.36.235.162|:443... connected.\n",
            "HTTP request sent, awaiting response... 200 OK\n",
            "Length: 80856957 (77M) [application/zip]\n",
            "Saving to: ‘SJB_25_Dataset.zip’\n",
            "\n",
            "SJB_25_Dataset.zip  100%[===================>]  77.11M  13.9MB/s    in 7.2s    \n",
            "\n",
            "2023-08-11 09:04:54 (10.7 MB/s) - ‘SJB_25_Dataset.zip’ saved [80856957/80856957]\n",
            "\n"
          ]
        }
      ],
      "source": [
        "# 下载数据集\n",
        "\n",
        "!rm -rf SJB_25_Dataset.zip SJB_25_Dataset\n",
        "!wget https://zihao-download.obs.cn-east-3.myhuaweicloud.com/yolov8/datasets/SJB_25_Dataset.zip"
      ]
    },
    {
      "cell_type": "code",
      "source": [
        "# 解压\n",
        "!unzip SJB_25_Dataset.zip >> /dev/null\n",
        "\n",
        "# 删除压缩包\n",
        "!rm -rf SJB_25_Dataset.zip"
      ],
      "metadata": {
        "id": "agWt44aYYFtt"
      },
      "execution_count": 5,
      "outputs": []
    },
    {
      "cell_type": "markdown",
      "source": [
        "## 划分数据集"
      ],
      "metadata": {
        "id": "IRzRYdjnYMus"
      }
    },
    {
      "cell_type": "code",
      "source": [
        "import os\n",
        "import shutil\n",
        "import random\n",
        "from tqdm import tqdm"
      ],
      "metadata": {
        "id": "NZERBp_nYPDN"
      },
      "execution_count": 6,
      "outputs": []
    },
    {
      "cell_type": "code",
      "source": [
        "Dataset_root = 'SJB_25_Dataset'\n",
        "\n",
        "os.chdir(os.path.join(Dataset_root, 'images')) # os.chdir() 方法用于改变当前工作目录到指定的路径。\n",
        "\n",
        "os.listdir()"
      ],
      "metadata": {
        "id": "pBjOqMWNYSiw",
        "colab": {
          "base_uri": "https://localhost:8080/"
        },
        "outputId": "cf8bf7d8-ae90-48f0-c5e7-5165aa6aa846"
      },
      "execution_count": 7,
      "outputs": [
        {
          "output_type": "execute_result",
          "data": {
            "text/plain": [
              "['DSC_0285.jpg',\n",
              " 'DSC_0274.jpg',\n",
              " 'DSC_0293.jpg',\n",
              " 'DSC_0260.jpg',\n",
              " 'MVIMG_20230331_080914.jpg',\n",
              " 'DSC_0245.jpg',\n",
              " 'MVIMG_20230331_080912.jpg',\n",
              " 'DSC_0265.jpg',\n",
              " 'DSC_0280.jpg',\n",
              " 'MVIMG_20230331_080915.jpg',\n",
              " 'MVIMG_20230331_080920.jpg',\n",
              " 'DSC_0278.jpg',\n",
              " 'DSC_0289.jpg',\n",
              " 'DSC_0259.jpg',\n",
              " 'DSC_0301.jpg',\n",
              " 'DSC_0240.jpg',\n",
              " 'DSC_0209.jpg',\n",
              " 'DSC_0219.jpg',\n",
              " 'DSC_0284.jpg',\n",
              " 'DSC_0283.jpg',\n",
              " 'DSC_0269.jpg',\n",
              " 'DSC_0236.jpg',\n",
              " 'DSC_0281.jpg',\n",
              " 'DSC_0282.jpg',\n",
              " 'MVIMG_20230331_080908.jpg']"
            ]
          },
          "metadata": {},
          "execution_count": 7
        }
      ]
    },
    {
      "cell_type": "code",
      "source": [
        "test_frac = 0.3  # 测试集比例，一般为三七开\n",
        "random.seed(2) # 随机数种子，便于复现"
      ],
      "metadata": {
        "id": "c9ftQTItYapa"
      },
      "execution_count": 8,
      "outputs": []
    },
    {
      "cell_type": "code",
      "source": [
        "folder = '.'"
      ],
      "metadata": {
        "id": "91hWALEjYg7y"
      },
      "execution_count": 9,
      "outputs": []
    },
    {
      "cell_type": "code",
      "source": [
        "os.listdir(folder) # 由于已经通过os.chdir()切换到了‘images'目录，所以只需用‘.'即可索引其目录下的文件"
      ],
      "metadata": {
        "id": "6u7yKxU5mZ7D",
        "colab": {
          "base_uri": "https://localhost:8080/"
        },
        "outputId": "2ac5ad88-5230-47e9-d7ca-91e9fe825cbc"
      },
      "execution_count": 10,
      "outputs": [
        {
          "output_type": "execute_result",
          "data": {
            "text/plain": [
              "['DSC_0285.jpg',\n",
              " 'DSC_0274.jpg',\n",
              " 'DSC_0293.jpg',\n",
              " 'DSC_0260.jpg',\n",
              " 'MVIMG_20230331_080914.jpg',\n",
              " 'DSC_0245.jpg',\n",
              " 'MVIMG_20230331_080912.jpg',\n",
              " 'DSC_0265.jpg',\n",
              " 'DSC_0280.jpg',\n",
              " 'MVIMG_20230331_080915.jpg',\n",
              " 'MVIMG_20230331_080920.jpg',\n",
              " 'DSC_0278.jpg',\n",
              " 'DSC_0289.jpg',\n",
              " 'DSC_0259.jpg',\n",
              " 'DSC_0301.jpg',\n",
              " 'DSC_0240.jpg',\n",
              " 'DSC_0209.jpg',\n",
              " 'DSC_0219.jpg',\n",
              " 'DSC_0284.jpg',\n",
              " 'DSC_0283.jpg',\n",
              " 'DSC_0269.jpg',\n",
              " 'DSC_0236.jpg',\n",
              " 'DSC_0281.jpg',\n",
              " 'DSC_0282.jpg',\n",
              " 'MVIMG_20230331_080908.jpg']"
            ]
          },
          "metadata": {},
          "execution_count": 10
        }
      ]
    },
    {
      "cell_type": "code",
      "source": [
        "img_paths = os.listdir(folder) # os.listdir()用于返回一个由文件名和目录名组成的列表\n",
        "random.shuffle(img_paths) # 随机排序\n",
        "\n",
        "val_number = int(len(img_paths) * test_frac) # 测试集文件个数\n",
        "train_files = img_paths[val_number:]         # 训练集文件名列表\n",
        "val_files = img_paths[:val_number]           # 测试集文件名列表\n",
        "\n",
        "print('数据集文件总数', len(img_paths))\n",
        "print('训练集文件个数', len(train_files))\n",
        "print('测试集文件个数', len(val_files))"
      ],
      "metadata": {
        "id": "ASlLsqPUY615",
        "colab": {
          "base_uri": "https://localhost:8080/"
        },
        "outputId": "daa754c3-cfcf-410c-8a40-4054688287e6"
      },
      "execution_count": 11,
      "outputs": [
        {
          "output_type": "stream",
          "name": "stdout",
          "text": [
            "数据集文件总数 25\n",
            "训练集文件个数 18\n",
            "测试集文件个数 7\n"
          ]
        }
      ]
    },
    {
      "cell_type": "markdown",
      "source": [
        "## images文件夹整理"
      ],
      "metadata": {
        "id": "nf1baInMnQit"
      }
    },
    {
      "cell_type": "code",
      "source": [
        "os.mkdir('train')\n",
        "for each in tqdm(train_files):\n",
        "    shutil.move(each, 'train')"
      ],
      "metadata": {
        "colab": {
          "base_uri": "https://localhost:8080/"
        },
        "id": "_OoefpounPoi",
        "outputId": "c99ecce6-ebd5-4449-d570-9f8649a43310"
      },
      "execution_count": 12,
      "outputs": [
        {
          "output_type": "stream",
          "name": "stderr",
          "text": [
            "100%|██████████| 18/18 [00:00<00:00, 19988.74it/s]\n"
          ]
        }
      ]
    },
    {
      "cell_type": "code",
      "source": [
        "os.mkdir('val')\n",
        "for each in tqdm(val_files):\n",
        "    shutil.move(each, 'val')"
      ],
      "metadata": {
        "colab": {
          "base_uri": "https://localhost:8080/"
        },
        "id": "XrhvIEmztUeS",
        "outputId": "b42410c1-ff56-4dac-d948-31ca0192dd40"
      },
      "execution_count": 13,
      "outputs": [
        {
          "output_type": "stream",
          "name": "stderr",
          "text": [
            "100%|██████████| 7/7 [00:00<00:00, 15283.77it/s]\n"
          ]
        }
      ]
    },
    {
      "cell_type": "markdown",
      "source": [
        "## labelme_jsons文件夹整理"
      ],
      "metadata": {
        "id": "dxQANG5dY_VL"
      }
    },
    {
      "cell_type": "code",
      "source": [
        "os.chdir('../labelme_jsons')"
      ],
      "metadata": {
        "id": "7Me5VCY8uS4z"
      },
      "execution_count": 14,
      "outputs": []
    },
    {
      "cell_type": "code",
      "source": [
        "os.mkdir('train')\n",
        "for each in tqdm(train_files):\n",
        "    srt_path = each.split('.')[0] + '.json'\n",
        "    shutil.move(srt_path, 'train')"
      ],
      "metadata": {
        "id": "xAfCp_qTZE80",
        "colab": {
          "base_uri": "https://localhost:8080/"
        },
        "outputId": "6271dec4-a1d0-4c63-c2da-87ea593cb134"
      },
      "execution_count": 15,
      "outputs": [
        {
          "output_type": "stream",
          "name": "stderr",
          "text": [
            "100%|██████████| 18/18 [00:00<00:00, 16669.79it/s]\n"
          ]
        }
      ]
    },
    {
      "cell_type": "code",
      "source": [
        "os.mkdir('val')\n",
        "for each in tqdm(val_files):\n",
        "    srt_path = each.split('.')[0] + '.json'\n",
        "    shutil.move(srt_path, 'val')"
      ],
      "metadata": {
        "id": "hVKASkOeZGWE",
        "colab": {
          "base_uri": "https://localhost:8080/"
        },
        "outputId": "32efb126-eb8e-4d20-de27-894f88ceeddd"
      },
      "execution_count": 16,
      "outputs": [
        {
          "output_type": "stream",
          "name": "stderr",
          "text": [
            "100%|██████████| 7/7 [00:00<00:00, 12968.25it/s]\n"
          ]
        }
      ]
    },
    {
      "cell_type": "code",
      "source": [
        "os.chdir('../../')"
      ],
      "metadata": {
        "id": "NL_ZiJhVeVWq"
      },
      "execution_count": 17,
      "outputs": []
    },
    {
      "cell_type": "markdown",
      "source": [
        "## 单文件--Lableme2YOLO"
      ],
      "metadata": {
        "id": "XD-AJOtgZp69"
      }
    },
    {
      "cell_type": "code",
      "source": [
        "import os\n",
        "import json\n",
        "import numpy as np"
      ],
      "metadata": {
        "id": "Nb2FPbVFZytf"
      },
      "execution_count": 18,
      "outputs": []
    },
    {
      "cell_type": "code",
      "source": [
        "# 框的类别\n",
        "\n",
        "bbox_class = {\n",
        "    'sjb_rect':0\n",
        "}"
      ],
      "metadata": {
        "id": "5JAWTrE3ZtQf"
      },
      "execution_count": 19,
      "outputs": []
    },
    {
      "cell_type": "code",
      "source": [
        "# 关键点的类别\n",
        "\n",
        "keypoint_class = ['angle_30', 'angle_60', 'angle_90']"
      ],
      "metadata": {
        "id": "OPeY3kktZy5F"
      },
      "execution_count": 20,
      "outputs": []
    },
    {
      "cell_type": "markdown",
      "source": [
        "### 载入一个json文件"
      ],
      "metadata": {
        "id": "FbczALdibtIb"
      }
    },
    {
      "cell_type": "code",
      "source": [
        "labelme_path = 'DSC_0281.json'"
      ],
      "metadata": {
        "id": "cEAfMtuDbxMR"
      },
      "execution_count": 21,
      "outputs": []
    },
    {
      "cell_type": "code",
      "source": [
        "with open(labelme_path, 'r', encoding='utf-8') as f:\n",
        "    labelme = json.load(f)"
      ],
      "metadata": {
        "id": "GifECZYlbykC"
      },
      "execution_count": 23,
      "outputs": []
    },
    {
      "cell_type": "code",
      "source": [
        "labelme.keys()"
      ],
      "metadata": {
        "id": "EmzfZs3ub0y9",
        "colab": {
          "base_uri": "https://localhost:8080/"
        },
        "outputId": "6b429be4-3230-4200-e151-73cf550e24af"
      },
      "execution_count": 24,
      "outputs": [
        {
          "output_type": "execute_result",
          "data": {
            "text/plain": [
              "dict_keys(['version', 'flags', 'shapes', 'imagePath', 'imageData', 'imageHeight', 'imageWidth'])"
            ]
          },
          "metadata": {},
          "execution_count": 24
        }
      ]
    },
    {
      "cell_type": "code",
      "source": [
        "labelme['version']"
      ],
      "metadata": {
        "id": "94phP3kAb8eW",
        "colab": {
          "base_uri": "https://localhost:8080/",
          "height": 35
        },
        "outputId": "5986765a-05ad-4b10-8973-cc51c8973f1e"
      },
      "execution_count": 25,
      "outputs": [
        {
          "output_type": "execute_result",
          "data": {
            "text/plain": [
              "'5.1.1'"
            ],
            "application/vnd.google.colaboratory.intrinsic+json": {
              "type": "string"
            }
          },
          "metadata": {},
          "execution_count": 25
        }
      ]
    },
    {
      "cell_type": "code",
      "source": [
        "labelme['flags']"
      ],
      "metadata": {
        "id": "0A5I-VZRb8_F",
        "colab": {
          "base_uri": "https://localhost:8080/"
        },
        "outputId": "60dd9812-660a-4d99-e56d-ff7a44d560bc"
      },
      "execution_count": 26,
      "outputs": [
        {
          "output_type": "execute_result",
          "data": {
            "text/plain": [
              "{}"
            ]
          },
          "metadata": {},
          "execution_count": 26
        }
      ]
    },
    {
      "cell_type": "code",
      "source": [
        "# 图像文件名\n",
        "labelme['imagePath']"
      ],
      "metadata": {
        "id": "_MAIF_Dkb88P",
        "colab": {
          "base_uri": "https://localhost:8080/",
          "height": 35
        },
        "outputId": "9ffdb0a9-2dfd-466c-b1eb-5b2097f45cb8"
      },
      "execution_count": 27,
      "outputs": [
        {
          "output_type": "execute_result",
          "data": {
            "text/plain": [
              "'DSC_0281.jpg'"
            ],
            "application/vnd.google.colaboratory.intrinsic+json": {
              "type": "string"
            }
          },
          "metadata": {},
          "execution_count": 27
        }
      ]
    },
    {
      "cell_type": "code",
      "source": [
        "labelme['imageData']"
      ],
      "metadata": {
        "id": "rxW7kpC2b84L"
      },
      "execution_count": 28,
      "outputs": []
    },
    {
      "cell_type": "code",
      "source": [
        "# 图像高度\n",
        "labelme['imageHeight']"
      ],
      "metadata": {
        "id": "ahVyGO1ob80A",
        "colab": {
          "base_uri": "https://localhost:8080/"
        },
        "outputId": "a9df2f0a-2728-4b0b-d5f3-940f203629e2"
      },
      "execution_count": 29,
      "outputs": [
        {
          "output_type": "execute_result",
          "data": {
            "text/plain": [
              "3712"
            ]
          },
          "metadata": {},
          "execution_count": 29
        }
      ]
    },
    {
      "cell_type": "code",
      "source": [
        "# 图像宽度\n",
        "labelme['imageWidth']"
      ],
      "metadata": {
        "id": "UN1x25i-cC89",
        "colab": {
          "base_uri": "https://localhost:8080/"
        },
        "outputId": "a670055c-d3a5-4cae-e2f9-a35d4ad12f2a"
      },
      "execution_count": 30,
      "outputs": [
        {
          "output_type": "execute_result",
          "data": {
            "text/plain": [
              "5568"
            ]
          },
          "metadata": {},
          "execution_count": 30
        }
      ]
    },
    {
      "cell_type": "code",
      "source": [
        "labelme['shapes']"
      ],
      "metadata": {
        "id": "OUdhAQ2VcC4x",
        "colab": {
          "base_uri": "https://localhost:8080/"
        },
        "outputId": "366c9761-b98e-47c7-86cd-0967d4b8dcb7"
      },
      "execution_count": 31,
      "outputs": [
        {
          "output_type": "execute_result",
          "data": {
            "text/plain": [
              "[{'label': 'sjb_rect',\n",
              "  'points': [[1138.0, 0.0], [4480.0, 1562.0]],\n",
              "  'group_id': None,\n",
              "  'shape_type': 'rectangle',\n",
              "  'flags': {}},\n",
              " {'label': 'sjb_rect',\n",
              "  'points': [[1160.0, 1954.0], [4560.0, 3566.0]],\n",
              "  'group_id': None,\n",
              "  'shape_type': 'rectangle',\n",
              "  'flags': {}},\n",
              " {'label': 'angle_30',\n",
              "  'points': [[4434.0, 284.0]],\n",
              "  'group_id': None,\n",
              "  'shape_type': 'point',\n",
              "  'flags': {}},\n",
              " {'label': 'angle_30',\n",
              "  'points': [[4526.0, 2316.0]],\n",
              "  'group_id': None,\n",
              "  'shape_type': 'point',\n",
              "  'flags': {}},\n",
              " {'label': 'angle_60',\n",
              "  'points': [[1202.0, 44.0]],\n",
              "  'group_id': None,\n",
              "  'shape_type': 'point',\n",
              "  'flags': {}},\n",
              " {'label': 'angle_60',\n",
              "  'points': [[1218.0, 2000.0]],\n",
              "  'group_id': None,\n",
              "  'shape_type': 'point',\n",
              "  'flags': {}},\n",
              " {'label': 'angle_90',\n",
              "  'points': [[1934.0, 1512.0]],\n",
              "  'group_id': None,\n",
              "  'shape_type': 'point',\n",
              "  'flags': {}},\n",
              " {'label': 'angle_90',\n",
              "  'points': [[1906.0, 3532.0]],\n",
              "  'group_id': None,\n",
              "  'shape_type': 'point',\n",
              "  'flags': {}},\n",
              " {'label': 'sjb_poly',\n",
              "  'points': [[1202.0, 28.0], [4454.0, 280.0], [1938.0, 1524.0]],\n",
              "  'group_id': None,\n",
              "  'shape_type': 'polygon',\n",
              "  'flags': {}},\n",
              " {'label': 'sjb_poly',\n",
              "  'points': [[1222.0, 1992.0], [4542.0, 2292.0], [1918.0, 3532.0]],\n",
              "  'group_id': None,\n",
              "  'shape_type': 'polygon',\n",
              "  'flags': {}}]"
            ]
          },
          "metadata": {},
          "execution_count": 31
        }
      ]
    },
    {
      "cell_type": "markdown",
      "source": [
        "### 生成YOLO格式文件"
      ],
      "metadata": {
        "id": "AwurYUlJcUa0"
      }
    },
    {
      "cell_type": "code",
      "source": [
        "img_width = labelme['imageWidth']   # 图像宽度\n",
        "img_height = labelme['imageHeight'] # 图像高度\n",
        "\n",
        "# 生成 YOLO 格式的 txt 文件\n",
        "suffix = labelme_path.split('.')[-2]\n",
        "yolo_txt_path = suffix + '.txt'"
      ],
      "metadata": {
        "id": "8aOfU3zFayDE"
      },
      "execution_count": 32,
      "outputs": []
    },
    {
      "cell_type": "code",
      "source": [
        "with open(yolo_txt_path, 'w', encoding='utf-8') as f:\n",
        "\n",
        "    for each_ann in labelme['shapes']: # 遍历每个标注\n",
        "\n",
        "        if each_ann['shape_type'] == 'rectangle': # 关键点信息的获取基于框的标注情况\n",
        "\n",
        "            yolo_str = '' # 表示需要写入的信息\n",
        "\n",
        "            ## 框的信息\n",
        "            # 框的类别 ID\n",
        "            bbox_class_id = bbox_class[each_ann['label']]\n",
        "            yolo_str += '{} '.format(bbox_class_id)\n",
        "\n",
        "\n",
        "            # 左上角和右下角的 XY 像素坐标\n",
        "            bbox_top_left_x = int(min(each_ann['points'][0][0], each_ann['points'][1][0]))\n",
        "            bbox_bottom_right_x = int(max(each_ann['points'][0][0], each_ann['points'][1][0]))\n",
        "            bbox_top_left_y = int(min(each_ann['points'][0][1], each_ann['points'][1][1]))\n",
        "            bbox_bottom_right_y = int(max(each_ann['points'][0][1], each_ann['points'][1][1]))\n",
        "\n",
        "\n",
        "            # 框中心点的 XY 像素坐标\n",
        "            bbox_center_x = int((bbox_top_left_x + bbox_bottom_right_x) / 2)\n",
        "            bbox_center_y = int((bbox_top_left_y + bbox_bottom_right_y) / 2)\n",
        "\n",
        "\n",
        "            # 框宽度\n",
        "            bbox_width = bbox_bottom_right_x - bbox_top_left_x\n",
        "\n",
        "\n",
        "            # 框高度\n",
        "            bbox_height = bbox_bottom_right_y - bbox_top_left_y\n",
        "\n",
        "\n",
        "            # 框中心点归一化坐标\n",
        "            bbox_center_x_norm = bbox_center_x / img_width\n",
        "            bbox_center_y_norm = bbox_center_y / img_height\n",
        "\n",
        "\n",
        "            # 框归一化宽度\n",
        "            bbox_width_norm = bbox_width / img_width\n",
        "\n",
        "\n",
        "            # 框归一化高度\n",
        "            bbox_height_norm = bbox_height / img_height\n",
        "\n",
        "\n",
        "            yolo_str += '{:.5f} {:.5f} {:.5f} {:.5f} '.format(bbox_center_x_norm, bbox_center_y_norm, bbox_width_norm, bbox_height_norm)\n",
        "\n",
        "\n",
        "            ## 找到该框中所有关键点，存在字典 bbox_keypoints_dict 中\n",
        "            bbox_keypoints_dict = {}\n",
        "            for each_ann in labelme['shapes']: # 遍历所有标注\n",
        "                if each_ann['shape_type'] == 'point': # 筛选出关键点标注\n",
        "                    # 关键点XY坐标、类别\n",
        "                    x = int(each_ann['points'][0][0])\n",
        "                    y = int(each_ann['points'][0][1])\n",
        "                    label = each_ann['label']\n",
        "                    if (x>bbox_top_left_x) & (x<bbox_bottom_right_x) & (y<bbox_bottom_right_y) & (y>bbox_top_left_y): # 筛选出在框中的关键点\n",
        "                        bbox_keypoints_dict[label] = [x, y]\n",
        "\n",
        "\n",
        "            ## 把关键点按顺序排好，具体顺序参照 keypoint_class\n",
        "            for each_class in keypoint_class: # 遍历每一类关键点\n",
        "                if each_class in bbox_keypoints_dict:\n",
        "                    keypoint_x_norm = bbox_keypoints_dict[each_class][0] / img_width\n",
        "                    keypoint_y_norm = bbox_keypoints_dict[each_class][1] / img_height\n",
        "\n",
        "\n",
        "                    yolo_str += '{:.5f} {:.5f} {} '.format(keypoint_x_norm, keypoint_y_norm, 2) # 2-可见不遮挡 1-遮挡 0-没有点\n",
        "                else: # 不存在的点，一律为0\n",
        "                    yolo_str += '0 0 0 '.format(keypoint_x_norm, keypoint_y_norm, 0)\n",
        "\n",
        "\n",
        "            # 写入 txt 文件中\n",
        "            f.write(yolo_str + '\\n')\n",
        "\n",
        "print('{} --> {} 转换完成'.format(labelme_path, yolo_txt_path))"
      ],
      "metadata": {
        "id": "QnjkMeDFcTvJ",
        "colab": {
          "base_uri": "https://localhost:8080/"
        },
        "outputId": "f8e3581a-160a-46c4-f406-cf9e800ae707"
      },
      "execution_count": 33,
      "outputs": [
        {
          "output_type": "stream",
          "name": "stdout",
          "text": [
            "DSC_0281.json --> DSC_0281.txt 转换完成\n"
          ]
        }
      ]
    },
    {
      "cell_type": "markdown",
      "source": [
        "## 批量--Lableme2YOLO"
      ],
      "metadata": {
        "id": "_AXuOqfjcdVa"
      }
    },
    {
      "cell_type": "code",
      "source": [
        "import os\n",
        "import json\n",
        "import shutil\n",
        "import numpy as np\n",
        "from tqdm import tqdm"
      ],
      "metadata": {
        "id": "lP_yyJ59ch_C"
      },
      "execution_count": 34,
      "outputs": []
    },
    {
      "cell_type": "code",
      "source": [
        "Dataset_root = 'SJB_25_Dataset'"
      ],
      "metadata": {
        "id": "zaOX_NqBws7t"
      },
      "execution_count": 35,
      "outputs": []
    },
    {
      "cell_type": "code",
      "source": [
        "# 指定类别信息\n",
        "\n",
        "# 框的类别\n",
        "bbox_class = {\n",
        "    'sjb_rect':0\n",
        "}\n",
        "\n",
        "# 关键点的类别\n",
        "keypoint_class = ['angle_30', 'angle_60', 'angle_90']"
      ],
      "metadata": {
        "id": "vEkP_fpAcn2U"
      },
      "execution_count": 36,
      "outputs": []
    },
    {
      "cell_type": "code",
      "source": [
        "os.chdir(Dataset_root)"
      ],
      "metadata": {
        "id": "cn9OjvO8c1Np"
      },
      "execution_count": 37,
      "outputs": []
    },
    {
      "cell_type": "code",
      "source": [
        "# 重新创建一个labels的文件夹用于保存txt文件\n",
        "\n",
        "os.mkdir('labels')\n",
        "os.mkdir('labels/train')\n",
        "os.mkdir('labels/val')"
      ],
      "metadata": {
        "id": "50c2M5hUc1G2"
      },
      "execution_count": 38,
      "outputs": []
    },
    {
      "cell_type": "code",
      "source": [
        "# 之前已成功完成对单一文件json->txt格式的转换，接下来将其封装为函数，进行批量处理\n",
        "\n",
        "def process_single_json(labelme_path, save_folder='../../labels/train'):\n",
        "\n",
        "    with open(labelme_path, 'r', encoding='utf-8') as f:\n",
        "        labelme = json.load(f)\n",
        "\n",
        "    img_width = labelme['imageWidth']   # 图像宽度\n",
        "    img_height = labelme['imageHeight'] # 图像高度\n",
        "\n",
        "    # 生成 YOLO 格式的 txt 文件\n",
        "    suffix = labelme_path.split('.')[-2]\n",
        "    yolo_txt_path = suffix + '.txt'\n",
        "\n",
        "    with open(yolo_txt_path, 'w', encoding='utf-8') as f:\n",
        "\n",
        "        for each_ann in labelme['shapes']: # 遍历每个标注\n",
        "\n",
        "            if each_ann['shape_type'] == 'rectangle': # 每个框，在 txt 里写一行\n",
        "\n",
        "                yolo_str = ''\n",
        "\n",
        "                ## 框的信息\n",
        "                # 框的类别 ID\n",
        "                bbox_class_id = bbox_class[each_ann['label']]\n",
        "                yolo_str += '{} '.format(bbox_class_id)\n",
        "                # 左上角和右下角的 XY 像素坐标\n",
        "                bbox_top_left_x = int(min(each_ann['points'][0][0], each_ann['points'][1][0]))\n",
        "                bbox_bottom_right_x = int(max(each_ann['points'][0][0], each_ann['points'][1][0]))\n",
        "                bbox_top_left_y = int(min(each_ann['points'][0][1], each_ann['points'][1][1]))\n",
        "                bbox_bottom_right_y = int(max(each_ann['points'][0][1], each_ann['points'][1][1]))\n",
        "                # 框中心点的 XY 像素坐标\n",
        "                bbox_center_x = int((bbox_top_left_x + bbox_bottom_right_x) / 2)\n",
        "                bbox_center_y = int((bbox_top_left_y + bbox_bottom_right_y) / 2)\n",
        "                # 框宽度\n",
        "                bbox_width = bbox_bottom_right_x - bbox_top_left_x\n",
        "                # 框高度\n",
        "                bbox_height = bbox_bottom_right_y - bbox_top_left_y\n",
        "                # 框中心点归一化坐标\n",
        "                bbox_center_x_norm = bbox_center_x / img_width\n",
        "                bbox_center_y_norm = bbox_center_y / img_height\n",
        "                # 框归一化宽度\n",
        "                bbox_width_norm = bbox_width / img_width\n",
        "                # 框归一化高度\n",
        "                bbox_height_norm = bbox_height / img_height\n",
        "\n",
        "                yolo_str += '{:.5f} {:.5f} {:.5f} {:.5f} '.format(bbox_center_x_norm, bbox_center_y_norm, bbox_width_norm, bbox_height_norm)\n",
        "\n",
        "                ## 找到该框中所有关键点，存在字典 bbox_keypoints_dict 中\n",
        "                bbox_keypoints_dict = {}\n",
        "                for each_ann in labelme['shapes']: # 遍历所有标注\n",
        "                    if each_ann['shape_type'] == 'point': # 筛选出关键点标注\n",
        "                        # 关键点XY坐标、类别\n",
        "                        x = int(each_ann['points'][0][0])\n",
        "                        y = int(each_ann['points'][0][1])\n",
        "                        label = each_ann['label']\n",
        "                        if (x>bbox_top_left_x) & (x<bbox_bottom_right_x) & (y<bbox_bottom_right_y) & (y>bbox_top_left_y): # 筛选出在该个体框中的关键点\n",
        "                            bbox_keypoints_dict[label] = [x, y]\n",
        "\n",
        "                ## 把关键点按顺序排好\n",
        "                for each_class in keypoint_class: # 遍历每一类关键点\n",
        "                    if each_class in bbox_keypoints_dict:\n",
        "                        keypoint_x_norm = bbox_keypoints_dict[each_class][0] / img_width\n",
        "                        keypoint_y_norm = bbox_keypoints_dict[each_class][1] / img_height\n",
        "                        yolo_str += '{:.5f} {:.5f} {} '.format(keypoint_x_norm, keypoint_y_norm, 2) # 2-可见不遮挡 1-遮挡 0-没有点\n",
        "                    else: # 不存在的点，一律为0\n",
        "                        yolo_str += '0 0 0 '\n",
        "                # 写入 txt 文件中\n",
        "                f.write(yolo_str + '\\n')\n",
        "\n",
        "    shutil.move(yolo_txt_path, save_folder)\n",
        "    print('{} --> {} 转换完成'.format(labelme_path, yolo_txt_path))"
      ],
      "metadata": {
        "id": "DMzCwU8Oc1EB"
      },
      "execution_count": 39,
      "outputs": []
    },
    {
      "cell_type": "code",
      "source": [
        "# 整理所得到的YOLO格式标注文件，使其与train，val的数据一一对应\n",
        "\n",
        "#-------------------------------------训练集------------------------------------\n",
        "os.chdir('labelme_jsons/train')\n",
        "\n",
        "save_folder = '../../labels/train'\n",
        "for labelme_path in os.listdir():\n",
        "    process_single_json(labelme_path, save_folder=save_folder)\n",
        "print('YOLO格式的txt标注文件已保存至 ', save_folder)\n",
        "\n",
        "os.chdir('../../') # 初始化路径\n",
        "\n",
        "\n",
        "#-------------------------------------验证集------------------------------------\n",
        "os.chdir('labelme_jsons/val')\n",
        "\n",
        "save_folder = '../../labels/val'\n",
        "for labelme_path in os.listdir():\n",
        "    process_single_json(labelme_path, save_folder=save_folder)\n",
        "print('YOLO格式的txt标注文件已保存至 ', save_folder)\n",
        "\n",
        "os.chdir('../../') # 初始化路径"
      ],
      "metadata": {
        "id": "MxLdyDeLdrgY",
        "colab": {
          "base_uri": "https://localhost:8080/"
        },
        "outputId": "d6e6443b-1d1c-4b0f-b889-8751a21c98c9"
      },
      "execution_count": 40,
      "outputs": [
        {
          "output_type": "stream",
          "name": "stdout",
          "text": [
            "DSC_0245.json --> DSC_0245.txt 转换完成\n",
            "DSC_0301.json --> DSC_0301.txt 转换完成\n",
            "MVIMG_20230331_080920.json --> MVIMG_20230331_080920.txt 转换完成\n",
            "MVIMG_20230331_080908.json --> MVIMG_20230331_080908.txt 转换完成\n",
            "DSC_0282.json --> DSC_0282.txt 转换完成\n",
            "DSC_0240.json --> DSC_0240.txt 转换完成\n",
            "DSC_0269.json --> DSC_0269.txt 转换完成\n",
            "DSC_0236.json --> DSC_0236.txt 转换完成\n",
            "DSC_0280.json --> DSC_0280.txt 转换完成\n",
            "DSC_0265.json --> DSC_0265.txt 转换完成\n",
            "DSC_0293.json --> DSC_0293.txt 转换完成\n",
            "DSC_0284.json --> DSC_0284.txt 转换完成\n",
            "DSC_0259.json --> DSC_0259.txt 转换完成\n",
            "DSC_0219.json --> DSC_0219.txt 转换完成\n",
            "MVIMG_20230331_080912.json --> MVIMG_20230331_080912.txt 转换完成\n",
            "DSC_0274.json --> DSC_0274.txt 转换完成\n",
            "MVIMG_20230331_080915.json --> MVIMG_20230331_080915.txt 转换完成\n",
            "DSC_0278.json --> DSC_0278.txt 转换完成\n",
            "YOLO格式的txt标注文件已保存至  ../../labels/train\n",
            "DSC_0285.json --> DSC_0285.txt 转换完成\n",
            "DSC_0281.json --> DSC_0281.txt 转换完成\n",
            "DSC_0289.json --> DSC_0289.txt 转换完成\n",
            "MVIMG_20230331_080914.json --> MVIMG_20230331_080914.txt 转换完成\n",
            "DSC_0260.json --> DSC_0260.txt 转换完成\n",
            "DSC_0209.json --> DSC_0209.txt 转换完成\n",
            "DSC_0283.json --> DSC_0283.txt 转换完成\n",
            "YOLO格式的txt标注文件已保存至  ../../labels/val\n"
          ]
        }
      ]
    }
  ]
}